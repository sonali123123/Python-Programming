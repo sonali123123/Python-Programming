{
  "nbformat": 4,
  "nbformat_minor": 0,
  "metadata": {
    "colab": {
      "provenance": []
    },
    "kernelspec": {
      "name": "python3",
      "display_name": "Python 3"
    },
    "language_info": {
      "name": "python"
    }
  },
  "cells": [
    {
      "cell_type": "markdown",
      "source": [
        "1. Write a Python function that takes a text string as input and returns a\n",
        "dictionary containing the frequency of each word in the string."
      ],
      "metadata": {
        "id": "2bwi0r-53ouH"
      }
    },
    {
      "cell_type": "code",
      "execution_count": 22,
      "metadata": {
        "id": "h0Q10Tji3W36"
      },
      "outputs": [],
      "source": [
        "def word_frequency(text):\n",
        "    word_freq = {}\n",
        "    words = text.split()\n",
        "\n",
        "    for word in words:\n",
        "        if word in word_freq:\n",
        "            word_freq[word] += 1\n",
        "        else:\n",
        "            word_freq[word] = 1\n",
        "\n",
        "    return word_freq\n"
      ]
    },
    {
      "cell_type": "code",
      "source": [
        "text = \"Hello world! This is a test. Hello again.\"\n",
        "frequency = word_frequency(text)\n",
        "print(frequency)\n"
      ],
      "metadata": {
        "colab": {
          "base_uri": "https://localhost:8080/"
        },
        "id": "ZR4uY8Bc3dfF",
        "outputId": "df72ce2a-8069-4aef-9c61-6c8f35427f36"
      },
      "execution_count": null,
      "outputs": [
        {
          "output_type": "stream",
          "name": "stdout",
          "text": [
            "{'Hello': 2, 'world!': 1, 'This': 1, 'is': 1, 'a': 1, 'test.': 1, 'again.': 1}\n"
          ]
        }
      ]
    },
    {
      "cell_type": "markdown",
      "source": [
        "2. ● Implement a Python function that performs K-means clustering on a\n",
        "given dataset, given the number of clusters as input, and returns the\n",
        "cluster labels for each data point."
      ],
      "metadata": {
        "id": "WmvgMYqh4JO8"
      }
    },
    {
      "cell_type": "code",
      "source": [
        "import pandas as pd\n",
        "import numpy as np\n",
        "import warnings\n",
        "warnings.filterwarnings(\"ignore\")"
      ],
      "metadata": {
        "id": "2la16G0j586Q"
      },
      "execution_count": null,
      "outputs": []
    },
    {
      "cell_type": "code",
      "source": [
        "data = pd.read_csv('/content/Students Performance.csv')\n",
        "print(\"The shape of data is\",data.shape)\n",
        "data.head()"
      ],
      "metadata": {
        "colab": {
          "base_uri": "https://localhost:8080/",
          "height": 224
        },
        "id": "mNS6CuKl6HHU",
        "outputId": "d34d2936-215a-46b7-9339-0e1c32c6b29c"
      },
      "execution_count": null,
      "outputs": [
        {
          "output_type": "stream",
          "name": "stdout",
          "text": [
            "The shape of data is (1000, 8)\n"
          ]
        },
        {
          "output_type": "execute_result",
          "data": {
            "text/plain": [
              "   gender race/ethnicity parental level of education         lunch  \\\n",
              "0  female        group B           bachelor's degree      standard   \n",
              "1  female        group C                some college      standard   \n",
              "2  female        group B             master's degree      standard   \n",
              "3    male        group A          associate's degree  free/reduced   \n",
              "4    male        group C                some college      standard   \n",
              "\n",
              "  test preparation course  math score  reading score  writing score  \n",
              "0                    none          72             72             74  \n",
              "1               completed          69             90             88  \n",
              "2                    none          90             95             93  \n",
              "3                    none          47             57             44  \n",
              "4                    none          76             78             75  "
            ],
            "text/html": [
              "\n",
              "  <div id=\"df-121c0e0a-d6e4-403b-bf8b-2d21bda22245\">\n",
              "    <div class=\"colab-df-container\">\n",
              "      <div>\n",
              "<style scoped>\n",
              "    .dataframe tbody tr th:only-of-type {\n",
              "        vertical-align: middle;\n",
              "    }\n",
              "\n",
              "    .dataframe tbody tr th {\n",
              "        vertical-align: top;\n",
              "    }\n",
              "\n",
              "    .dataframe thead th {\n",
              "        text-align: right;\n",
              "    }\n",
              "</style>\n",
              "<table border=\"1\" class=\"dataframe\">\n",
              "  <thead>\n",
              "    <tr style=\"text-align: right;\">\n",
              "      <th></th>\n",
              "      <th>gender</th>\n",
              "      <th>race/ethnicity</th>\n",
              "      <th>parental level of education</th>\n",
              "      <th>lunch</th>\n",
              "      <th>test preparation course</th>\n",
              "      <th>math score</th>\n",
              "      <th>reading score</th>\n",
              "      <th>writing score</th>\n",
              "    </tr>\n",
              "  </thead>\n",
              "  <tbody>\n",
              "    <tr>\n",
              "      <th>0</th>\n",
              "      <td>female</td>\n",
              "      <td>group B</td>\n",
              "      <td>bachelor's degree</td>\n",
              "      <td>standard</td>\n",
              "      <td>none</td>\n",
              "      <td>72</td>\n",
              "      <td>72</td>\n",
              "      <td>74</td>\n",
              "    </tr>\n",
              "    <tr>\n",
              "      <th>1</th>\n",
              "      <td>female</td>\n",
              "      <td>group C</td>\n",
              "      <td>some college</td>\n",
              "      <td>standard</td>\n",
              "      <td>completed</td>\n",
              "      <td>69</td>\n",
              "      <td>90</td>\n",
              "      <td>88</td>\n",
              "    </tr>\n",
              "    <tr>\n",
              "      <th>2</th>\n",
              "      <td>female</td>\n",
              "      <td>group B</td>\n",
              "      <td>master's degree</td>\n",
              "      <td>standard</td>\n",
              "      <td>none</td>\n",
              "      <td>90</td>\n",
              "      <td>95</td>\n",
              "      <td>93</td>\n",
              "    </tr>\n",
              "    <tr>\n",
              "      <th>3</th>\n",
              "      <td>male</td>\n",
              "      <td>group A</td>\n",
              "      <td>associate's degree</td>\n",
              "      <td>free/reduced</td>\n",
              "      <td>none</td>\n",
              "      <td>47</td>\n",
              "      <td>57</td>\n",
              "      <td>44</td>\n",
              "    </tr>\n",
              "    <tr>\n",
              "      <th>4</th>\n",
              "      <td>male</td>\n",
              "      <td>group C</td>\n",
              "      <td>some college</td>\n",
              "      <td>standard</td>\n",
              "      <td>none</td>\n",
              "      <td>76</td>\n",
              "      <td>78</td>\n",
              "      <td>75</td>\n",
              "    </tr>\n",
              "  </tbody>\n",
              "</table>\n",
              "</div>\n",
              "      <button class=\"colab-df-convert\" onclick=\"convertToInteractive('df-121c0e0a-d6e4-403b-bf8b-2d21bda22245')\"\n",
              "              title=\"Convert this dataframe to an interactive table.\"\n",
              "              style=\"display:none;\">\n",
              "        \n",
              "  <svg xmlns=\"http://www.w3.org/2000/svg\" height=\"24px\"viewBox=\"0 0 24 24\"\n",
              "       width=\"24px\">\n",
              "    <path d=\"M0 0h24v24H0V0z\" fill=\"none\"/>\n",
              "    <path d=\"M18.56 5.44l.94 2.06.94-2.06 2.06-.94-2.06-.94-.94-2.06-.94 2.06-2.06.94zm-11 1L8.5 8.5l.94-2.06 2.06-.94-2.06-.94L8.5 2.5l-.94 2.06-2.06.94zm10 10l.94 2.06.94-2.06 2.06-.94-2.06-.94-.94-2.06-.94 2.06-2.06.94z\"/><path d=\"M17.41 7.96l-1.37-1.37c-.4-.4-.92-.59-1.43-.59-.52 0-1.04.2-1.43.59L10.3 9.45l-7.72 7.72c-.78.78-.78 2.05 0 2.83L4 21.41c.39.39.9.59 1.41.59.51 0 1.02-.2 1.41-.59l7.78-7.78 2.81-2.81c.8-.78.8-2.07 0-2.86zM5.41 20L4 18.59l7.72-7.72 1.47 1.35L5.41 20z\"/>\n",
              "  </svg>\n",
              "      </button>\n",
              "      \n",
              "  <style>\n",
              "    .colab-df-container {\n",
              "      display:flex;\n",
              "      flex-wrap:wrap;\n",
              "      gap: 12px;\n",
              "    }\n",
              "\n",
              "    .colab-df-convert {\n",
              "      background-color: #E8F0FE;\n",
              "      border: none;\n",
              "      border-radius: 50%;\n",
              "      cursor: pointer;\n",
              "      display: none;\n",
              "      fill: #1967D2;\n",
              "      height: 32px;\n",
              "      padding: 0 0 0 0;\n",
              "      width: 32px;\n",
              "    }\n",
              "\n",
              "    .colab-df-convert:hover {\n",
              "      background-color: #E2EBFA;\n",
              "      box-shadow: 0px 1px 2px rgba(60, 64, 67, 0.3), 0px 1px 3px 1px rgba(60, 64, 67, 0.15);\n",
              "      fill: #174EA6;\n",
              "    }\n",
              "\n",
              "    [theme=dark] .colab-df-convert {\n",
              "      background-color: #3B4455;\n",
              "      fill: #D2E3FC;\n",
              "    }\n",
              "\n",
              "    [theme=dark] .colab-df-convert:hover {\n",
              "      background-color: #434B5C;\n",
              "      box-shadow: 0px 1px 3px 1px rgba(0, 0, 0, 0.15);\n",
              "      filter: drop-shadow(0px 1px 2px rgba(0, 0, 0, 0.3));\n",
              "      fill: #FFFFFF;\n",
              "    }\n",
              "  </style>\n",
              "\n",
              "      <script>\n",
              "        const buttonEl =\n",
              "          document.querySelector('#df-121c0e0a-d6e4-403b-bf8b-2d21bda22245 button.colab-df-convert');\n",
              "        buttonEl.style.display =\n",
              "          google.colab.kernel.accessAllowed ? 'block' : 'none';\n",
              "\n",
              "        async function convertToInteractive(key) {\n",
              "          const element = document.querySelector('#df-121c0e0a-d6e4-403b-bf8b-2d21bda22245');\n",
              "          const dataTable =\n",
              "            await google.colab.kernel.invokeFunction('convertToInteractive',\n",
              "                                                     [key], {});\n",
              "          if (!dataTable) return;\n",
              "\n",
              "          const docLinkHtml = 'Like what you see? Visit the ' +\n",
              "            '<a target=\"_blank\" href=https://colab.research.google.com/notebooks/data_table.ipynb>data table notebook</a>'\n",
              "            + ' to learn more about interactive tables.';\n",
              "          element.innerHTML = '';\n",
              "          dataTable['output_type'] = 'display_data';\n",
              "          await google.colab.output.renderOutput(dataTable, element);\n",
              "          const docLink = document.createElement('div');\n",
              "          docLink.innerHTML = docLinkHtml;\n",
              "          element.appendChild(docLink);\n",
              "        }\n",
              "      </script>\n",
              "    </div>\n",
              "  </div>\n",
              "  "
            ]
          },
          "metadata": {},
          "execution_count": 6
        }
      ]
    },
    {
      "cell_type": "code",
      "source": [
        "data.info()"
      ],
      "metadata": {
        "colab": {
          "base_uri": "https://localhost:8080/"
        },
        "id": "Uau2pYkH7ngu",
        "outputId": "93320438-f0ae-4c38-cb42-d8af453d63af"
      },
      "execution_count": null,
      "outputs": [
        {
          "output_type": "stream",
          "name": "stdout",
          "text": [
            "<class 'pandas.core.frame.DataFrame'>\n",
            "RangeIndex: 1000 entries, 0 to 999\n",
            "Data columns (total 8 columns):\n",
            " #   Column                       Non-Null Count  Dtype \n",
            "---  ------                       --------------  ----- \n",
            " 0   gender                       1000 non-null   object\n",
            " 1   race/ethnicity               1000 non-null   object\n",
            " 2   parental level of education  1000 non-null   object\n",
            " 3   lunch                        1000 non-null   object\n",
            " 4   test preparation course      1000 non-null   object\n",
            " 5   math score                   1000 non-null   int64 \n",
            " 6   reading score                1000 non-null   int64 \n",
            " 7   writing score                1000 non-null   int64 \n",
            "dtypes: int64(3), object(5)\n",
            "memory usage: 62.6+ KB\n"
          ]
        }
      ]
    },
    {
      "cell_type": "code",
      "source": [
        "df = data.iloc[:,[6,7]].values\n"
      ],
      "metadata": {
        "id": "VnDEpzGR8bWA"
      },
      "execution_count": null,
      "outputs": []
    },
    {
      "cell_type": "code",
      "source": [
        "df"
      ],
      "metadata": {
        "colab": {
          "base_uri": "https://localhost:8080/"
        },
        "id": "w3kGx63z83XO",
        "outputId": "5588bd02-d8fe-4a90-d3b3-c12ff8356f41"
      },
      "execution_count": null,
      "outputs": [
        {
          "output_type": "execute_result",
          "data": {
            "text/plain": [
              "array([[72, 74],\n",
              "       [90, 88],\n",
              "       [95, 93],\n",
              "       ...,\n",
              "       [71, 65],\n",
              "       [78, 77],\n",
              "       [86, 86]])"
            ]
          },
          "metadata": {},
          "execution_count": 9
        }
      ]
    },
    {
      "cell_type": "code",
      "source": [
        "# finding wcss value for different number of clusters\n",
        "from sklearn.cluster import KMeans\n",
        "wcss = []\n",
        "\n",
        "for i in range(1,11):\n",
        "  kmeans = KMeans(n_clusters=i, init='k-means++', random_state=42)\n",
        "  kmeans.fit(df)\n",
        "\n",
        "  wcss.append(kmeans.inertia_)\n"
      ],
      "metadata": {
        "id": "__GkOAzw9DWw"
      },
      "execution_count": null,
      "outputs": []
    },
    {
      "cell_type": "code",
      "source": [
        "# plot an elbow graph\n",
        "import seaborn as sns\n",
        "import matplotlib.pyplot as plt\n",
        "\n",
        "sns.set()\n",
        "plt.plot(range(1,11), wcss)\n",
        "plt.title('The Elbow Point Graph')\n",
        "plt.xlabel('Number of Clusters')\n",
        "plt.ylabel('WCSS')\n",
        "plt.show()"
      ],
      "metadata": {
        "colab": {
          "base_uri": "https://localhost:8080/",
          "height": 480
        },
        "id": "jURSKHe89XHg",
        "outputId": "410bf597-a73e-4c8b-91c8-876564eb9a48"
      },
      "execution_count": null,
      "outputs": [
        {
          "output_type": "display_data",
          "data": {
            "text/plain": [
              "<Figure size 640x480 with 1 Axes>"
            ],
            "image/png": "[encoded data removed]"
          },
          "metadata": {}
        }
      ]
    },
    {
      "cell_type": "markdown",
      "source": [
        "Optimum Number of Clusters = 6"
      ],
      "metadata": {
        "id": "rS7IucZB9hN7"
      }
    },
    {
      "cell_type": "code",
      "source": [
        "## Training K means Clustering\n",
        "\n",
        "kmeans = KMeans(n_clusters=6, init='k-means++', random_state=0)\n",
        "\n",
        "# return a label for each data point based on their cluster\n",
        "Y = kmeans.fit_predict(df)"
      ],
      "metadata": {
        "id": "IWbX1N0U9wuO"
      },
      "execution_count": null,
      "outputs": []
    },
    {
      "cell_type": "code",
      "source": [
        "print(Y)"
      ],
      "metadata": {
        "colab": {
          "base_uri": "https://localhost:8080/"
        },
        "id": "3E_Z86Vx96lp",
        "outputId": "41865820-f4c7-492e-d842-330464b340bd"
      },
      "execution_count": null,
      "outputs": [
        {
          "output_type": "stream",
          "name": "stdout",
          "text": [
            "[5 1 1 0 5 2 1 4 3 0 0 0 2 5 0 5 1 4 4 3 3 5 0 5 5 5 0 5 3 5 5 3 5 4 2 2 2\n",
            " 3 1 0 0 5 3 3 0 0 3 5 5 2 0 5 4 5 2 4 2 0 3 4 5 4 0 5 3 3 4 5 0 3 5 3 0 0\n",
            " 4 4 4 2 5 5 0 4 0 3 4 2 2 5 5 2 5 4 5 0 1 2 3 5 3 3 3 5 1 4 1 5 1 3 5 5 1\n",
            " 0 0 0 1 5 2 2 3 3 1 1 1 0 5 1 3 5 2 0 2 4 5 2 2 0 0 0 3 3 5 3 0 4 5 4 2 3\n",
            " 2 1 5 3 5 0 3 1 5 3 2 3 5 2 0 0 1 1 0 2 2 5 5 2 2 5 0 1 0 2 3 1 5 3 0 5 0\n",
            " 3 5 3 0 1 3 2 3 3 2 0 3 0 0 2 2 2 5 5 4 5 3 2 2 3 2 4 3 0 2 2 1 4 5 0 5 2\n",
            " 3 2 5 0 5 0 5 1 3 4 2 2 2 5 3 3 0 2 3 2 0 0 5 5 5 5 3 0 0 2 5 5 0 5 5 2 5\n",
            " 2 2 2 0 1 5 4 2 5 1 5 3 4 0 5 2 5 1 5 2 0 0 0 2 2 0 2 2 2 5 5 5 5 3 5 2 3\n",
            " 4 5 0 2 2 0 2 5 2 5 2 0 5 0 2 3 3 5 5 3 2 5 5 3 2 2 2 0 4 1 3 4 5 0 3 4 0\n",
            " 2 1 3 5 0 4 0 0 5 5 5 5 2 3 1 5 5 3 0 2 0 5 5 3 3 3 1 3 2 3 4 3 3 0 3 3 2\n",
            " 5 5 5 1 5 4 2 1 2 3 2 1 5 0 4 5 5 5 3 5 3 5 3 0 5 4 3 1 3 0 3 4 3 1 3 5 3\n",
            " 2 0 2 5 2 3 3 5 5 5 5 3 0 1 3 3 2 4 3 2 5 0 3 3 5 0 0 3 0 3 5 0 2 2 2 5 2\n",
            " 2 5 3 2 4 5 2 1 5 0 3 0 1 0 1 3 0 0 5 1 3 1 4 3 2 5 1 5 2 3 1 2 3 5 3 5 5\n",
            " 0 3 0 0 5 0 5 0 2 2 3 2 1 3 3 0 2 5 5 2 1 0 1 0 2 5 0 2 1 5 0 0 3 1 2 2 5\n",
            " 2 2 0 2 0 0 0 3 3 0 4 5 5 0 3 1 5 2 3 3 5 1 5 2 2 1 3 2 1 3 3 5 5 1 0 3 4\n",
            " 4 5 3 5 3 2 5 1 2 0 4 1 5 0 3 5 1 3 3 5 0 0 1 0 3 1 2 5 2 2 5 5 3 3 3 0 0\n",
            " 3 5 1 5 4 0 5 2 3 4 2 0 1 3 2 0 3 3 3 3 1 5 1 5 4 2 2 5 0 3 0 1 3 1 3 0 0\n",
            " 0 3 3 2 2 2 5 2 1 5 5 0 1 2 2 3 2 3 3 0 2 0 2 1 5 2 3 3 3 3 2 5 3 5 5 3 3\n",
            " 5 2 3 5 5 0 2 2 2 3 2 2 5 3 5 3 0 4 3 1 5 5 0 2 0 2 2 5 3 1 2 5 2 3 2 5 2\n",
            " 3 3 5 4 0 2 3 1 2 1 2 5 1 5 1 5 5 5 3 1 4 4 5 5 0 1 4 2 4 1 4 0 3 2 5 5 0\n",
            " 5 0 2 5 0 5 5 3 3 2 5 5 5 1 0 1 0 5 3 2 5 0 2 3 3 5 5 3 5 3 0 5 5 2 3 0 5\n",
            " 4 2 2 0 2 2 3 2 0 2 4 3 3 3 5 5 2 0 5 5 2 0 0 5 5 1 2 2 2 5 4 5 0 4 0 3 2\n",
            " 2 2 3 5 5 1 1 1 0 2 0 3 5 5 2 0 3 1 3 2 0 5 3 2 0 5 0 0 4 5 3 2 2 0 5 5 3\n",
            " 3 1 3 3 1 3 2 0 5 0 2 4 5 1 2 0 4 5 0 0 5 2 2 3 3 2 0 5 5 3 5 5 4 0 2 1 3\n",
            " 5 0 1 1 5 5 3 4 4 2 3 2 2 5 4 1 2 2 0 1 5 3 4 2 3 3 0 5 1 0 2 1 5 0 3 3 5\n",
            " 3 0 3 4 0 5 3 5 5 1 3 0 0 2 5 5 1 3 3 3 3 2 3 0 5 5 2 5 0 5 3 2 1 3 5 3 0\n",
            " 1 5 0 5 3 3 5 2 1 5 0 3 3 2 3 3 4 1 4 2 2 1 2 0 0 5 4 2 2 2 5 5 3 1 0 5 2\n",
            " 2]\n"
          ]
        }
      ]
    },
    {
      "cell_type": "code",
      "source": [
        "## Visualizing all the clusters\n",
        "import matplotlib.pyplot as plt\n",
        "\n",
        "# plotting all the clusters and their Centroids\n",
        "\n",
        "plt.figure(figsize=(8,8))\n",
        "plt.scatter(df[Y==0,0], df[Y==0,1], s=50, c='green', label='Cluster 1')\n",
        "plt.scatter(df[Y==1,0], df[Y==1,1], s=50, c='red', label='Cluster 2')\n",
        "plt.scatter(df[Y==2,0], df[Y==2,1], s=50, c='yellow', label='Cluster 3')\n",
        "plt.scatter(df[Y==3,0], df[Y==3,1], s=50, c='violet', label='Cluster 4')\n",
        "plt.scatter(df[Y==4,0], df[Y==4,1], s=50, c='black', label='Cluster 5')\n",
        "plt.scatter(df[Y==5,0], df[Y==5,1], s=50, c='brown', label='Cluster 6')\n",
        "\n",
        "\n",
        "# plot the centroids\n",
        "plt.scatter(kmeans.cluster_centers_[:,0], kmeans.cluster_centers_[:,1], s=100, c='cyan', label='Centroids')\n",
        "\n",
        "plt.title('Students Performance')\n",
        "plt.xlabel('reading score')\n",
        "plt.ylabel('writing score')\n",
        "plt.show()"
      ],
      "metadata": {
        "colab": {
          "base_uri": "https://localhost:8080/",
          "height": 727
        },
        "id": "3UJAM_iI62FW",
        "outputId": "6d8c6064-1613-41c1-c038-eaea6e1d4989"
      },
      "execution_count": null,
      "outputs": [
        {
          "output_type": "display_data",
          "data": {
            "text/plain": [
              "<Figure size 800x800 with 1 Axes>"
            ],
            "image/png": "[encoded data removed]"
          },
          "metadata": {}
        }
      ]
    },
    {
      "cell_type": "markdown",
      "source": [
        "3. Implement a Python class called DecisionTree that can be trained on a\n",
        "given dataset and used to make predictions on new input data."
      ],
      "metadata": {
        "id": "sDrOqWCP_0_d"
      }
    },
    {
      "cell_type": "code",
      "source": [
        "import numpy as np\n",
        "\n",
        "\n",
        "class DecisionTree:\n",
        "    def __init__(self):\n",
        "        self.tree = None\n",
        "\n",
        "    def fit(self, X, y):\n",
        "        self.tree = self.build_tree(X, y)\n",
        "\n",
        "    def predict(self, X):\n",
        "        if self.tree is None:\n",
        "            raise RuntimeError(\"Decision tree has not been trained. Call 'fit' before 'predict'.\")\n",
        "\n",
        "        predictions = []\n",
        "        for sample in X:\n",
        "            prediction = self.traverse_tree(sample, self.tree)\n",
        "            predictions.append(prediction)\n",
        "        return np.array(predictions)\n",
        "\n",
        "    def build_tree(self, X, y):\n",
        "        # Base case: check if all samples belong to the same class\n",
        "        if len(np.unique(y)) == 1:\n",
        "            return {'class': y[0]}\n",
        "\n",
        "        num_samples, num_features = X.shape\n",
        "\n",
        "        # Find the best feature and split point\n",
        "        best_feature, best_split_point = self.find_best_split(X, y)\n",
        "\n",
        "        # Base case: check if splitting the data does not improve purity\n",
        "        if best_feature is None:\n",
        "            return {'class': self.most_common_class(y)}\n",
        "\n",
        "        # Split the data based on the best feature and split point\n",
        "        left_mask = X[:, best_feature] <= best_split_point\n",
        "        right_mask = X[:, best_feature] > best_split_point\n",
        "        left_X, left_y = X[left_mask], y[left_mask]\n",
        "        right_X, right_y = X[right_mask], y[right_mask]\n",
        "\n",
        "        # Recursively build the left and right subtrees\n",
        "        left_subtree = self.build_tree(left_X, left_y)\n",
        "        right_subtree = self.build_tree(right_X, right_y)\n",
        "\n",
        "        # Create a node representing the best feature and split point\n",
        "        return {\n",
        "            'feature': best_feature,\n",
        "            'split_point': best_split_point,\n",
        "            'left': left_subtree,\n",
        "            'right': right_subtree\n",
        "        }\n",
        "\n",
        "    def find_best_split(self, X, y):\n",
        "        best_feature = None\n",
        "        best_split_point = None\n",
        "        best_gini = 1.0\n",
        "\n",
        "        num_samples, num_features = X.shape\n",
        "\n",
        "        for feature in range(num_features):\n",
        "            values = np.unique(X[:, feature])\n",
        "            for value in values:\n",
        "                left_mask = X[:, feature] <= value\n",
        "                right_mask = X[:, feature] > value\n",
        "                left_labels, right_labels = y[left_mask], y[right_mask]\n",
        "\n",
        "                gini = self.calculate_gini(left_labels, right_labels)\n",
        "\n",
        "                if gini < best_gini:\n",
        "                    best_feature = feature\n",
        "                    best_split_point = value\n",
        "                    best_gini = gini\n",
        "\n",
        "        return best_feature, best_split_point\n",
        "\n",
        "    def calculate_gini(self, left_labels, right_labels):\n",
        "        total_samples = len(left_labels) + len(right_labels)\n",
        "        left_gini = self.calculate_impurity(left_labels)\n",
        "        right_gini = self.calculate_impurity(right_labels)\n",
        "        weighted_gini = (len(left_labels) / total_samples) * left_gini + (len(right_labels) / total_samples) * right_gini\n",
        "        return weighted_gini\n",
        "\n",
        "    def calculate_impurity(self, labels):\n",
        "        _, counts = np.unique(labels, return_counts=True)\n",
        "        probabilities = counts / len(labels)\n",
        "        impurity = 1.0 - np.sum(probabilities ** 2)\n",
        "        return impurity\n",
        "\n",
        "    def most_common_class(self, labels):\n",
        "        unique_labels, counts = np.unique(labels, return_counts=True)\n",
        "        most_common_index = np.argmax(counts)\n",
        "        return unique_labels[most_common_index]\n",
        "\n",
        "    def traverse_tree(self, sample, node):\n",
        "        if 'class' in node:\n",
        "            return node['class']\n",
        "\n",
        "        feature = node['feature']\n",
        "        split_point = node['split_point']\n",
        "\n",
        "        if sample[feature] <= split_point:\n",
        "            return self.traverse_tree(sample, node['left'])\n",
        "        else:\n",
        "            return self.traverse_tree(sample, node['right'])\n"
      ],
      "metadata": {
        "id": "zJebSjpJAYfe"
      },
      "execution_count": null,
      "outputs": []
    },
    {
      "cell_type": "code",
      "source": [
        "# Create an instance of the DecisionTree class\n",
        "tree = DecisionTree()\n",
        "\n",
        "# Generate a random dataset for demonstration\n",
        "np.random.seed(0)\n",
        "X = np.random.randn(100, 2)\n",
        "y = np.random.choice([0, 1], size=100)\n",
        "\n",
        "# Train the decision tree\n",
        "tree.fit(X, y)\n",
        "\n",
        "# Make predictions on new data\n",
        "new_data = np.random.randn(5, 2)\n",
        "predictions = tree.predict(new_data)\n",
        "\n",
        "print(predictions)\n"
      ],
      "metadata": {
        "colab": {
          "base_uri": "https://localhost:8080/"
        },
        "id": "TZe8nICDAzWP",
        "outputId": "9eb78826-4ac5-40c9-8215-d957d380f07c"
      },
      "execution_count": null,
      "outputs": [
        {
          "output_type": "stream",
          "name": "stdout",
          "text": [
            "[0 1 0 1 0]\n"
          ]
        }
      ]
    },
    {
      "cell_type": "markdown",
      "source": [
        "4. Write a Python function that takes a user&#39;s message as input and returns a response based on a predefined set of rules. For example, if the user asks\n",
        "&quot;What is your name?&quot;, the function should return &quot;My name is Chatbot.&quot;\n",
        "Implement a Python class called Chatbot that has methods for processing\n",
        "user input, generating responses, and maintaining a conversation history."
      ],
      "metadata": {
        "id": "BWJagymuBDUU"
      }
    },
    {
      "cell_type": "code",
      "source": [
        "import random\n",
        "\n",
        "\n",
        "class Chatbot:\n",
        "    def __init__(self):\n",
        "        self.history = []\n",
        "\n",
        "    def process_input(self, user_input):\n",
        "        self.history.append(user_input)\n",
        "        response = self.generate_response(user_input)\n",
        "        self.history.append(response)\n",
        "        return response\n",
        "\n",
        "    def generate_response(self, user_input):\n",
        "        user_input = user_input.lower()\n",
        "\n",
        "        if 'hello' in user_input or 'hi' in user_input:\n",
        "            return \"Hello! How can I assist you?\"\n",
        "\n",
        "        if 'your name' in user_input:\n",
        "            return \"My name is Chatbot.\"\n",
        "\n",
        "        if 'how are you' in user_input:\n",
        "            return \"I'm doing well, thank you!\"\n",
        "\n",
        "        if 'bye' in user_input or 'goodbye' in user_input:\n",
        "            return \"Goodbye! Have a great day.\"\n",
        "\n",
        "        return \"I'm sorry, I didn't understand. Can you please rephrase your question?\"\n",
        "\n",
        "    def get_history(self):\n",
        "        return self.history\n"
      ],
      "metadata": {
        "id": "PfBXlhhdBKMw"
      },
      "execution_count": null,
      "outputs": []
    },
    {
      "cell_type": "code",
      "source": [
        "# Create an instance of the Chatbot class\n",
        "chatbot = Chatbot()\n",
        "\n",
        "# Process user input and get responses\n",
        "response1 = chatbot.process_input(\"Hello\")\n",
        "response2 = chatbot.process_input(\"What is your name?\")\n",
        "response3 = chatbot.process_input(\"How are you today?\")\n",
        "response4 = chatbot.process_input(\"Goodbye\")\n",
        "\n",
        "# Get conversation history\n",
        "history = chatbot.get_history()\n",
        "\n",
        "# Print responses and conversation history\n",
        "print(response1)\n",
        "print(response2)\n",
        "print(response3)\n",
        "print(response4)\n",
        "print(history)\n"
      ],
      "metadata": {
        "colab": {
          "base_uri": "https://localhost:8080/"
        },
        "id": "IxtWQSXiB3hH",
        "outputId": "dca9ea17-37eb-4b8e-b0d1-12d85100a3f8"
      },
      "execution_count": null,
      "outputs": [
        {
          "output_type": "stream",
          "name": "stdout",
          "text": [
            "Hello! How can I assist you?\n",
            "My name is Chatbot.\n",
            "I'm doing well, thank you!\n",
            "Goodbye! Have a great day.\n",
            "['Hello', 'Hello! How can I assist you?', 'What is your name?', 'My name is Chatbot.', 'How are you today?', \"I'm doing well, thank you!\", 'Goodbye', 'Goodbye! Have a great day.']\n"
          ]
        }
      ]
    },
    {
      "cell_type": "markdown",
      "source": [
        "5. Implement a Python function that uses natural language processing\n",
        "techniques to perform named entity recognition on a user&#39;s message and\n",
        "extract relevant entities such as names, locations, or dates"
      ],
      "metadata": {
        "id": "Y1Me-hfwB_46"
      }
    },
    {
      "cell_type": "code",
      "source": [
        "import spacy\n",
        "\n",
        "\n",
        "def perform_ner(user_input):\n",
        "    # Load the pre-trained English language model for NER\n",
        "    nlp = spacy.load(\"en_core_web_sm\")\n",
        "\n",
        "    # Process the user's input\n",
        "    doc = nlp(user_input)\n",
        "\n",
        "    # Extract named entities\n",
        "    entities = []\n",
        "    for ent in doc.ents:\n",
        "        entities.append((ent.text, ent.label_))\n",
        "\n",
        "    return entities\n"
      ],
      "metadata": {
        "id": "UcNyGp0HCHPt"
      },
      "execution_count": null,
      "outputs": []
    },
    {
      "cell_type": "code",
      "source": [
        "user_input = \"I visited New York last year and had dinner with John.\"\n",
        "\n",
        "entities = perform_ner(user_input)\n",
        "\n",
        "for entity, label in entities:\n",
        "    print(\"Entity:\", entity)\n",
        "    print(\"Label:\", label)\n",
        "    print()\n"
      ],
      "metadata": {
        "colab": {
          "base_uri": "https://localhost:8080/"
        },
        "id": "Kyshulo3CpZk",
        "outputId": "01ddb90e-9f70-4610-903f-205234000ecd"
      },
      "execution_count": null,
      "outputs": [
        {
          "output_type": "stream",
          "name": "stdout",
          "text": [
            "Entity: New York\n",
            "Label: GPE\n",
            "\n",
            "Entity: last year\n",
            "Label: DATE\n",
            "\n",
            "Entity: John\n",
            "Label: PERSON\n",
            "\n"
          ]
        }
      ]
    },
    {
      "cell_type": "markdown",
      "source": [
        "6. Write a Python function that integrates with external APIs (such as\n",
        "weather or news APIs) to provide real-time information in response to\n",
        "user queries."
      ],
      "metadata": {
        "id": "JsFemOZjC_r_"
      }
    },
    {
      "cell_type": "code",
      "source": [
        "import requests\n",
        "\n",
        "\n",
        "def get_weather(city):\n",
        "    # API endpoint and parameters\n",
        "    url = \"https://api.openweathermap.org/data/2.5/weather\"\n",
        "    api_key = \"<Your API Key>\"  # Replace with your actual API key\n",
        "    params = {\n",
        "        \"q\": city,\n",
        "        \"appid\": api_key,\n",
        "        \"units\": \"metric\"  # You can adjust the units as per your preference\n",
        "    }\n",
        "\n",
        "    try:\n",
        "        # Send a GET request to the weather API\n",
        "        response = requests.get(url, params=params)\n",
        "        data = response.json()\n",
        "\n",
        "        # Extract relevant weather information\n",
        "        weather_description = data[\"weather\"][0][\"description\"]\n",
        "        temperature = data[\"main\"][\"temp\"]\n",
        "        humidity = data[\"main\"][\"humidity\"]\n",
        "\n",
        "        # Create a response string with the weather information\n",
        "        response_str = f\"The weather in {city} is {weather_description}. \"\n",
        "        response_str += f\"The temperature is {temperature}°C and the humidity is {humidity}%.\"\n",
        "\n",
        "        return response_str\n",
        "\n",
        "    except requests.exceptions.RequestException as e:\n",
        "        # Handle API request errors\n",
        "        print(\"Error occurred:\", e)\n",
        "        return \"Sorry, an error occurred while retrieving the weather information.\"\n",
        "\n",
        "\n",
        "# Example usage\n",
        "city = \"London\"\n",
        "weather_info = get_weather(city)\n",
        "print(weather_info)\n"
      ],
      "metadata": {
        "id": "brzypxEHC_T2"
      },
      "execution_count": null,
      "outputs": []
    }
  ]
}