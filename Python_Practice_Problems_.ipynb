{
  "nbformat": 4,
  "nbformat_minor": 0,
  "metadata": {
    "colab": {
      "provenance": []
    },
    "kernelspec": {
      "name": "python3",
      "display_name": "Python 3"
    },
    "language_info": {
      "name": "python"
    }
  },
  "cells": [
    {
      "cell_type": "markdown",
      "source": [
        "**Python Practice questions for Data Science**"
      ],
      "metadata": {
        "id": "mPUggldtWOFV"
      }
    },
    {
      "cell_type": "markdown",
      "source": [
        "**1. User will input (3ages).Find the eldest one**\n"
      ],
      "metadata": {
        "id": "2uylWsxKSAsQ"
      }
    },
    {
      "cell_type": "code",
      "execution_count": 1,
      "metadata": {
        "colab": {
          "base_uri": "https://localhost:8080/"
        },
        "id": "KfnD7D7iR1-V",
        "outputId": "2cc594e0-c5ae-453b-e859-8ebe6a16aacb"
      },
      "outputs": [
        {
          "output_type": "stream",
          "name": "stdout",
          "text": [
            "Enter First age: 22\n",
            "Enter Second age: 19\n",
            "Enter Third age: 18\n",
            "22 is eldest\n"
          ]
        }
      ],
      "source": [
        "Age1 = int(input(\"Enter First age: \"))\n",
        "Age2 = int(input(\"Enter Second age: \"))\n",
        "Age3 = int(input(\"Enter Third age: \"))\n",
        "if Age1>=Age2 and Age1>=Age3:\n",
        "  print(Age1,\"is eldest\")\n",
        "elif Age2>=Age1 and Age2>=Age3:\n",
        "  print(Age2,\"is the eldest\")\n",
        "else:\n",
        "  print(Age3,\"is the eldest\")\n",
        "  \n"
      ]
    },
    {
      "cell_type": "markdown",
      "source": [
        "**2. Write a program that will convert celsius value to fahrenheit**"
      ],
      "metadata": {
        "id": "PLHSmIpxUBvy"
      }
    },
    {
      "cell_type": "code",
      "source": [
        "def celsius_to_fahr(val):\n",
        "  fahrenheit = (val*(9/5)+32)\n",
        "  print(fahrenheit)\n",
        "celsius_to_fahr(32)"
      ],
      "metadata": {
        "colab": {
          "base_uri": "https://localhost:8080/"
        },
        "id": "aeF-nu5ZUGd1",
        "outputId": "5f7a2746-448e-4597-fa5c-3b1aef687faf"
      },
      "execution_count": 2,
      "outputs": [
        {
          "output_type": "stream",
          "name": "stdout",
          "text": [
            "89.6\n"
          ]
        }
      ]
    },
    {
      "cell_type": "markdown",
      "source": [
        "**3. User will input (2numbers).Write a program to swap the numbers**"
      ],
      "metadata": {
        "id": "NP_0A-xEU5Jf"
      }
    },
    {
      "cell_type": "code",
      "source": [
        "a = int(input(\"Enter the first number: \"))\n",
        "b = int(input(\"Enter the second number: \"))\n",
        "\n",
        "print(\"Before swapping: a=\",a,'b=3',b)\n",
        "a,b = b,a\n",
        "print(\"After swapping: a=\", a ,\"b=\",b)"
      ],
      "metadata": {
        "colab": {
          "base_uri": "https://localhost:8080/"
        },
        "id": "lKXhnVrBU-N0",
        "outputId": "7a6e69ec-5fa6-4186-bff4-a58935f508cd"
      },
      "execution_count": 3,
      "outputs": [
        {
          "output_type": "stream",
          "name": "stdout",
          "text": [
            "Enter the first number: 5\n",
            "Enter the second number: 8\n",
            "Before swapping: a= 5 b=3 8\n",
            "After swapping: a= 8 b= 5\n"
          ]
        }
      ]
    },
    {
      "cell_type": "markdown",
      "source": [
        "**4. Write a program that will give you the sum of 3 digits**"
      ],
      "metadata": {
        "id": "t1Ue-Ki_V64l"
      }
    },
    {
      "cell_type": "code",
      "source": [
        "num = int(input(\"Enter the 3 digit number: \"))\n",
        "\n",
        "digit1 = num//100\n",
        "digit2 = (num//10)%10\n",
        "digit3 = num%10\n",
        "\n",
        "sum = digit1 + digit2 + digit3\n",
        "print(\"Sum of digits are: \",sum)"
      ],
      "metadata": {
        "colab": {
          "base_uri": "https://localhost:8080/"
        },
        "id": "DVZUHreVWAr5",
        "outputId": "d3442c4c-fcf9-4425-a5b4-dec745354953"
      },
      "execution_count": 4,
      "outputs": [
        {
          "output_type": "stream",
          "name": "stdout",
          "text": [
            "Enter the 3 digit number: 678\n",
            "Sum of digits are:  21\n"
          ]
        }
      ]
    },
    {
      "cell_type": "markdown",
      "source": [
        "**5. Write a program that will reverse a four digit number.Also it checks whether the reverse is true.**"
      ],
      "metadata": {
        "id": "jUCiNNi8W39_"
      }
    },
    {
      "cell_type": "code",
      "source": [
        "# take input from the user\n",
        "num = int(input(\"enter the four digit number: \"))\n",
        "\n",
        "#reverse the digits\n",
        "digit1 = num%10\n",
        "digit2 = (num//10)%10\n",
        "digit3 = (num//100)%10\n",
        "digit4 = num//1000\n",
        "\n",
        "reverse = digit1*1000 + digit2*100 + digit3*10 + digit4\n",
        "\n",
        "#Check if the reverse is true\n",
        "if reverse == num:\n",
        "  print(num,\"is palindrome\")\n",
        "else:\n",
        "  print(num,\"is not palindrome\")\n",
        "\n",
        "#print the reversed number\n",
        "print(\"The reversed number is: \", reverse)"
      ],
      "metadata": {
        "colab": {
          "base_uri": "https://localhost:8080/"
        },
        "id": "PvnwJ4_UXpHD",
        "outputId": "75722092-1a15-4ee7-d2af-1d0d6967f846"
      },
      "execution_count": 5,
      "outputs": [
        {
          "output_type": "stream",
          "name": "stdout",
          "text": [
            "enter the four digit number: 7896\n",
            "7896 is not palindrome\n",
            "The reversed number is:  6987\n"
          ]
        }
      ]
    },
    {
      "cell_type": "markdown",
      "source": [
        "**6. Write a program that will tell whether the number entered by the user is odd or even**"
      ],
      "metadata": {
        "id": "z8kgHFxJZGYz"
      }
    },
    {
      "cell_type": "code",
      "source": [
        "#take input from user\n",
        "num = int(input(\"Enter the number: \"))\n",
        "\n",
        "#Check if the number is even or not\n",
        "if num%2==0:\n",
        "  print(num,\"is even\")\n",
        "else:\n",
        "  print(num,\"is odd\")"
      ],
      "metadata": {
        "colab": {
          "base_uri": "https://localhost:8080/"
        },
        "id": "_IDTQliSZBph",
        "outputId": "802d8af6-70ce-4e65-e990-d01dd94d6dc7"
      },
      "execution_count": 6,
      "outputs": [
        {
          "output_type": "stream",
          "name": "stdout",
          "text": [
            "Enter the number: 765\n",
            "765 is odd\n"
          ]
        }
      ]
    },
    {
      "cell_type": "markdown",
      "source": [
        "**7. Write a program that will tell whether the given year is a leap year or not**"
      ],
      "metadata": {
        "id": "D3FpNyLBZrvp"
      }
    },
    {
      "cell_type": "code",
      "source": [
        "# take input from user\n",
        "year = int(input(\"Enter  the year: \"))\n",
        "\n",
        "#Check leap year or not\n",
        "if (year%400 == 0 or ((year%100 !=0) and (year%4 == 0))):\n",
        "  print(year,\"is a leap year\")\n",
        "else:\n",
        "  print(year,'is not a leap year')"
      ],
      "metadata": {
        "colab": {
          "base_uri": "https://localhost:8080/"
        },
        "id": "0-J4VkQmZt-v",
        "outputId": "d3c06085-ae73-4ae5-fd21-f46ee1705c7c"
      },
      "execution_count": 7,
      "outputs": [
        {
          "output_type": "stream",
          "name": "stdout",
          "text": [
            "Enter  the year: 2020\n",
            "2020 is a leap year\n"
          ]
        }
      ]
    },
    {
      "cell_type": "markdown",
      "source": [
        "**8. Write a program to find the euclidean distance between two coordinates.**"
      ],
      "metadata": {
        "id": "NTAp1RS9ac-t"
      }
    },
    {
      "cell_type": "code",
      "source": [
        "import math\n",
        "\n",
        "#take input from user\n",
        "x1 = float(input(\"Enter the x co-ordinate of 1st point: \"))\n",
        "y1 = float(input(\"Enter the y co-ordinate of 1st point: \"))\n",
        "x2 = float(input(\"Enter the x co-ordinate of 2nd point: \"))\n",
        "y2 = float(input(\"Enter the x co-ordinate of 2nd point: \"))\n",
        "\n",
        "#calculate Euclidean distance\n",
        "d = math.sqrt((x2-x1)**2 + (y2-y1)**2)\n",
        "\n",
        "#print the result\n",
        "print(\"Euclidean distance between the given points are: \",d)"
      ],
      "metadata": {
        "colab": {
          "base_uri": "https://localhost:8080/"
        },
        "id": "Ho_MexmVacbz",
        "outputId": "0706bfae-dc9f-4982-f47a-c34e17f3b4a6"
      },
      "execution_count": 8,
      "outputs": [
        {
          "output_type": "stream",
          "name": "stdout",
          "text": [
            "Enter the x co-ordinate of 1st point: 6\n",
            "Enter the y co-ordinate of 1st point: 7\n",
            "Enter the x co-ordinate of 2nd point: 3\n",
            "Enter the x co-ordinate of 2nd point: 8\n",
            "Euclidean distance between the given points are:  3.1622776601683795\n"
          ]
        }
      ]
    },
    {
      "cell_type": "markdown",
      "source": [
        "**9. Write a program that take a user input of three angles and will find out whether it can form a triangle or not**"
      ],
      "metadata": {
        "id": "x-MalQ9mbkZ2"
      }
    },
    {
      "cell_type": "code",
      "source": [
        "#take the input from the user\n",
        "ang1 = float(input(\"Enter 1st angle: \"))\n",
        "ang2 = float(input(\"Enter the 2nd angle: \"))\n",
        "ang3 =float(input(\"Enter the 3rd angle: \"))\n",
        "\n",
        "#check if angles can form a triangle\n",
        "if (ang1 + ang2 + ang3)==180:\n",
        "  print(\"The angles can form a triangle\")\n",
        "else:\n",
        "  print(\"The angles cannot form a triangle\")"
      ],
      "metadata": {
        "colab": {
          "base_uri": "https://localhost:8080/"
        },
        "id": "2R14crsMbwdO",
        "outputId": "1bc363c9-aadd-45fd-9ce7-38b0bd5e0664"
      },
      "execution_count": 9,
      "outputs": [
        {
          "output_type": "stream",
          "name": "stdout",
          "text": [
            "Enter 1st angle: 50\n",
            "Enter the 2nd angle: 50\n",
            "Enter the 3rd angle: 80\n",
            "The angles can form a triangle\n"
          ]
        }
      ]
    },
    {
      "cell_type": "markdown",
      "source": [
        "**10. Write a program that will take user input of cost price and selling price and determines whether its a loss or a profit**\n"
      ],
      "metadata": {
        "id": "X4sZQ6gVdIBi"
      }
    },
    {
      "cell_type": "code",
      "source": [
        "#Take input from user\n",
        "cost_price = float(input(\"Enter the cost price: \"))\n",
        "sell_price = float(input(\"Enter the selling price: \"))\n",
        "\n",
        "#Check loss or profit\n",
        "if sell_price > cost_price:\n",
        "  print(\"Profit\")\n",
        "else:\n",
        "  print(\"loss\")"
      ],
      "metadata": {
        "colab": {
          "base_uri": "https://localhost:8080/"
        },
        "id": "PJlbo3JEdKJp",
        "outputId": "3696b037-73d5-477c-ec3c-a21705bffe39"
      },
      "execution_count": 10,
      "outputs": [
        {
          "output_type": "stream",
          "name": "stdout",
          "text": [
            "Enter the cost price: 5678\n",
            "Enter the selling price: 7896\n",
            "Profit\n"
          ]
        }
      ]
    },
    {
      "cell_type": "markdown",
      "source": [
        "**11. Write a program to find the simple interest when the value of principle,rate of interest and time period is given.**\n"
      ],
      "metadata": {
        "id": "y5WSpmNWd-1f"
      }
    },
    {
      "cell_type": "code",
      "source": [
        "#Take the input from the user\n",
        "P = float(input(\"Enter the value of Principle: \"))\n",
        "R = float(input(\"Enter the value of Rate: \"))\n",
        "T = float(input(\"Enter the time: \"))\n",
        "\n",
        "#Calculate Simple Interest\n",
        "SI = (P*R*T)/100\n",
        "\n",
        "#print the result\n",
        "print(\"Simple interest: \",SI)"
      ],
      "metadata": {
        "colab": {
          "base_uri": "https://localhost:8080/"
        },
        "id": "iMQ8iBOoeDz5",
        "outputId": "dfa2e3f1-82e6-494f-8511-08f7a27d295d"
      },
      "execution_count": 11,
      "outputs": [
        {
          "output_type": "stream",
          "name": "stdout",
          "text": [
            "Enter the value of Principle: 50000\n",
            "Enter the value of Rate: 3\n",
            "Enter the time: 1\n",
            "Simple interest:  1500.0\n"
          ]
        }
      ]
    },
    {
      "cell_type": "markdown",
      "source": [
        "**12. Write a program to find the volume of the cylinder. Also find the cost when ,when the cost of 1litre milk is 40Rs.**"
      ],
      "metadata": {
        "id": "TKpM5sYtfG-N"
      }
    },
    {
      "cell_type": "code",
      "source": [
        "#Take the input from user\n",
        "h = float(input(\"Enter the height of the cylinder: \"))\n",
        "r = float(input(\"Enter the radius of the cylinder: \"))\n",
        "\n",
        "import math\n",
        "\n",
        "#Calculate volume\n",
        "vol = math.pi*(r**2)*h\n",
        "\n",
        "#Calculate cost of milk\n",
        "cost = vol*40\n",
        "\n",
        "print(\"Volume of the cylinder: \",vol)\n",
        "print(\"Cost of the milk: \",cost)"
      ],
      "metadata": {
        "colab": {
          "base_uri": "https://localhost:8080/"
        },
        "id": "fAcllxHUfNlW",
        "outputId": "83dd15ea-742d-432d-8c44-ea0e533d5b0a"
      },
      "execution_count": 12,
      "outputs": [
        {
          "output_type": "stream",
          "name": "stdout",
          "text": [
            "Enter the height of the cylinder: 7\n",
            "Enter the radius of the cylinder: 4\n",
            "Volume of the cylinder:  351.85837720205683\n",
            "Cost of the milk:  14074.335088082273\n"
          ]
        }
      ]
    },
    {
      "cell_type": "markdown",
      "source": [
        "**13 Write  a program that will tell whether the given number is divisible by 3 & 6**"
      ],
      "metadata": {
        "id": "T_0bOonRgdTk"
      }
    },
    {
      "cell_type": "code",
      "source": [
        "num = int(input(\"Enter the number: \"))\n",
        "\n",
        "if num%3==0 and num%6==0 :\n",
        "  print(\"Number is divisible by 3&6\")\n",
        "else:\n",
        "  print(\"Not divisible by 3&6\")"
      ],
      "metadata": {
        "colab": {
          "base_uri": "https://localhost:8080/"
        },
        "id": "yLbRsJ-Qgqz_",
        "outputId": "767e3cb3-f9db-4fed-90d8-24ba6192dd69"
      },
      "execution_count": 13,
      "outputs": [
        {
          "output_type": "stream",
          "name": "stdout",
          "text": [
            "Enter the number: 6\n",
            "Number is divisible by 3&6\n"
          ]
        }
      ]
    },
    {
      "cell_type": "markdown",
      "source": [
        "**14. Write a program that will determine weather when the value of temperature and humidity is provided by the user.**\n",
        "\n",
        "TEMPERATURE(C)                      HUMIDITY(%)            WEATHER\n",
        "\n",
        "      >= 30                             >=90                Hot and Humid\n",
        "      >= 30                             < 90                 Hot\n",
        "      <30                                >= 90               Cool and Humid\n",
        "      <30                                 <90                 Cool\n"
      ],
      "metadata": {
        "id": "TwUkq3SKhAYg"
      }
    },
    {
      "cell_type": "code",
      "source": [
        "temp = float(input(\"Enter the temperature: \"))\n",
        "hum = float(input(\"Enter the humidity: \"))\n",
        "\n",
        "if temp>=30 and hum>=90:\n",
        "  print(\"Weather is Hot and Humid\")\n",
        "elif temp>=30 and hum<90:\n",
        "  print(\"Weather is Hot\")\n",
        "else:\n",
        "  print(\"weather is Cool\")\n"
      ],
      "metadata": {
        "colab": {
          "base_uri": "https://localhost:8080/"
        },
        "id": "mOebxKAzhpb4",
        "outputId": "322ee798-a696-4c7c-d5e1-3094bd8652f9"
      },
      "execution_count": 14,
      "outputs": [
        {
          "output_type": "stream",
          "name": "stdout",
          "text": [
            "Enter the temperature: 650\n",
            "Enter the humidity: 56\n",
            "Weather is Hot\n"
          ]
        }
      ]
    },
    {
      "cell_type": "markdown",
      "source": [
        "**15. Write a program that will take three digits from the user and add the \n",
        "square of each digit.**"
      ],
      "metadata": {
        "id": "rKqQm170i492"
      }
    },
    {
      "cell_type": "code",
      "source": [
        "num = input(\"Enter the three digit number: \")\n",
        "\n",
        "digits = [int(i) for i in num]\n",
        "\n",
        "sum_of_squares = digits[0]**2 + digits[1]**2 + digits[2]**2\n",
        "\n",
        "print(\"Sum of square of digits are: \",sum_of_squares)"
      ],
      "metadata": {
        "colab": {
          "base_uri": "https://localhost:8080/"
        },
        "id": "HOY0Xi-XjDnM",
        "outputId": "4c47a826-93d9-4fd9-c359-c6edfbc25d29"
      },
      "execution_count": 15,
      "outputs": [
        {
          "output_type": "stream",
          "name": "stdout",
          "text": [
            "Enter the three digit number: 456\n",
            "Sum of square of digits are:  77\n"
          ]
        }
      ]
    },
    {
      "cell_type": "markdown",
      "source": [
        "**16. Write a program that will check whether the number is armstrong number or not.**"
      ],
      "metadata": {
        "id": "Ew65nbOgkBSI"
      }
    },
    {
      "cell_type": "code",
      "source": [
        "\n",
        "def check_armstrong(n):\n",
        "  n_str = str(n)\n",
        "  length = len(n_str)\n",
        "  sum = 0\n",
        "  for i in n_str:\n",
        "    sum+=int(i)**length\n",
        "  if sum==n:\n",
        "    print(n,\"is armstrong\")\n",
        "  else:\n",
        "    print(n,\"is not armstrong\")\n",
        "check_armstrong(153)"
      ],
      "metadata": {
        "colab": {
          "base_uri": "https://localhost:8080/"
        },
        "id": "pfG1t1sHmF7K",
        "outputId": "36a35e65-1c5d-413e-9d3a-e8ecb5dca653"
      },
      "execution_count": 16,
      "outputs": [
        {
          "output_type": "stream",
          "name": "stdout",
          "text": [
            "153 is armstrong\n"
          ]
        }
      ]
    },
    {
      "cell_type": "markdown",
      "source": [
        "**17. Write a program that will give you the in hand salary after deduction of HRA(10%),DA(5%),PF(3%), and tax(if salary is between 5-10 lakh–10%),(11-20lakh–20%),(20< _   – 30%)(0-1lakh print k)**"
      ],
      "metadata": {
        "id": "pD-lYRFYnKNW"
      }
    },
    {
      "cell_type": "code",
      "source": [
        "salary = int(input(\"Enter your salary: \"))\n",
        "\n",
        "# calculate HRA, DA, and PF\n",
        "hra = 0.1 * salary\n",
        "da = 0.05 * salary\n",
        "pf = 0.03 * salary\n",
        "\n",
        "# calculate total deductions\n",
        "total_deductions = hra + da + pf\n",
        "\n",
        "# calculate taxable income\n",
        "taxable_income = salary - total_deductions\n",
        "\n",
        "# calculate tax\n",
        "if 0 <= taxable_income <= 100000:\n",
        "    tax = 0\n",
        "elif 100000 < taxable_income <= 500000:\n",
        "    tax = 0.1 * taxable_income\n",
        "elif 500000 < taxable_income <= 1000000:\n",
        "    tax = 0.2 * taxable_income\n",
        "else:\n",
        "    tax = 0.3 * taxable_income\n",
        "\n",
        "# calculate in-hand salary\n",
        "in_hand_salary = salary - total_deductions - tax\n",
        "\n",
        "# print the results\n",
        "print(\"HRA: {:.2f}\".format(hra))\n",
        "print(\"DA: {:.2f}\".format(da))\n",
        "print(\"PF: {:.2f}\".format(pf))\n",
        "print(\"Total Deductions: {:.2f}\".format(total_deductions))\n",
        "print(\"Taxable Income: {:.2f}\".format(taxable_income))\n",
        "print(\"Tax: {:.2f}\".format(tax))\n",
        "print(\"In-hand Salary: {:.2f}\".format(in_hand_salary))\n"
      ],
      "metadata": {
        "colab": {
          "base_uri": "https://localhost:8080/"
        },
        "id": "VwxQPjWSnM1t",
        "outputId": "17633086-e97b-4d1d-ef1d-652719fb67d4"
      },
      "execution_count": 17,
      "outputs": [
        {
          "output_type": "stream",
          "name": "stdout",
          "text": [
            "Enter your salary: 500000\n",
            "HRA: 50000.00\n",
            "DA: 25000.00\n",
            "PF: 15000.00\n",
            "Total Deductions: 90000.00\n",
            "Taxable Income: 410000.00\n",
            "Tax: 41000.00\n",
            "In-hand Salary: 369000.00\n"
          ]
        }
      ]
    },
    {
      "cell_type": "markdown",
      "source": [
        "**18. Write a program that will tell the number of dogs and chicken are there when the user will provide the value of total heads and legs.**"
      ],
      "metadata": {
        "id": "ynoqaeOTqIZ-"
      }
    },
    {
      "cell_type": "code",
      "source": [
        "heads = int(input(\"Enter the total number of heads: \"))\n",
        "legs = int(input(\"Enter the total number of legs: \"))\n",
        "\n",
        "# Calculate the number of chickens\n",
        "chickens = (4 * heads - legs) // 2\n",
        "\n",
        "# Calculate the number of dogs\n",
        "dogs = heads - chickens\n",
        "\n",
        "# Display the results\n",
        "print(\"Number of chickens: \", chickens)\n",
        "print(\"Number of dogs: \", dogs)\n"
      ],
      "metadata": {
        "colab": {
          "base_uri": "https://localhost:8080/"
        },
        "id": "2jLtRiKhr0Tu",
        "outputId": "96d5e011-413a-4807-d5c0-92992e9da023"
      },
      "execution_count": 18,
      "outputs": [
        {
          "output_type": "stream",
          "name": "stdout",
          "text": [
            "Enter the total number of heads: 4\n",
            "Enter the total number of legs: 8\n",
            "Number of chickens:  4\n",
            "Number of dogs:  0\n"
          ]
        }
      ]
    },
    {
      "cell_type": "markdown",
      "source": [
        "**19. Write a program to find the sum of first n numbers, where n will be provided by the user. Eg if the user provides n=10 the output should be 55**"
      ],
      "metadata": {
        "id": "U9nV7lkqsPYh"
      }
    },
    {
      "cell_type": "code",
      "source": [
        "n = int(input(\"Enter the number: \"))\n",
        "sum = 0\n",
        "for i in range(n+1):\n",
        "  sum+=i\n",
        "print(\"Sum of the numbers upto\",n,\"are\",sum)"
      ],
      "metadata": {
        "colab": {
          "base_uri": "https://localhost:8080/"
        },
        "id": "qXy5x8dSsYH-",
        "outputId": "45444718-ef60-4777-bbd8-75829ac55e93"
      },
      "execution_count": 19,
      "outputs": [
        {
          "output_type": "stream",
          "name": "stdout",
          "text": [
            "Enter the number: 8\n",
            "Sum of the numbers upto 8 are 36\n"
          ]
        }
      ]
    },
    {
      "cell_type": "markdown",
      "source": [
        "**20. Write a program that can multiply 2 numbers provided by the user without using the product**"
      ],
      "metadata": {
        "id": "2TWp1_dlswDc"
      }
    },
    {
      "cell_type": "code",
      "source": [
        "num1 = int(input(\"Enter the first number: \"))\n",
        "num2 = int(input(\"Enter the second number: \"))\n",
        "\n",
        "product = 0\n",
        "\n",
        "#add num1 to itself upto num2 times to get the product\n",
        "for i in range(1,num2+1):\n",
        "  product+=num1\n",
        "\n",
        "#Display the number\n",
        "print(\"product of\",num1,\"and\",num2,\"are\",product)"
      ],
      "metadata": {
        "colab": {
          "base_uri": "https://localhost:8080/"
        },
        "id": "NowbTZOks4Kv",
        "outputId": "ed70b28c-7e17-435e-ecc8-4b026cbfd51d"
      },
      "execution_count": 20,
      "outputs": [
        {
          "output_type": "stream",
          "name": "stdout",
          "text": [
            "Enter the first number: 56\n",
            "Enter the second number: 3\n",
            "product of 56 and 3 are 168\n"
          ]
        }
      ]
    },
    {
      "cell_type": "markdown",
      "source": [
        "**21. Write a program that can find the factorial of a given number provided by the user**"
      ],
      "metadata": {
        "id": "RaLCcd9AuKRs"
      }
    },
    {
      "cell_type": "code",
      "source": [
        "num = int(input(\"Enter the number:\"))\n",
        "\n",
        "f = 1\n",
        "\n",
        "#calucate factorial\n",
        "for i in range(1,num+1):\n",
        "  f*=i\n",
        "print(\"Factorial of\",num,\"is\",f)\n"
      ],
      "metadata": {
        "colab": {
          "base_uri": "https://localhost:8080/"
        },
        "id": "rfIFJ7FYuRf4",
        "outputId": "e995017a-85c8-4f09-87c8-c4fe0c746dd1"
      },
      "execution_count": 21,
      "outputs": [
        {
          "output_type": "stream",
          "name": "stdout",
          "text": [
            "Enter the number:8\n",
            "Factorial of 8 is 40320\n"
          ]
        }
      ]
    },
    {
      "cell_type": "markdown",
      "source": [
        "**22. Write a program to print whether a given number is prime number or not**"
      ],
      "metadata": {
        "id": "RBuRryk6u5a_"
      }
    },
    {
      "cell_type": "code",
      "source": [
        "num = int(input(\"Enter the number: \"))\n",
        "\n",
        "if num>1:\n",
        "  for i in range(2,num):\n",
        "    if num%i ==0:\n",
        "      print(num,\"is not prime\")\n",
        "      break\n",
        "  else:\n",
        "      print(num,\"is prime\")\n",
        "else:\n",
        "    print(num,'is not prime')"
      ],
      "metadata": {
        "colab": {
          "base_uri": "https://localhost:8080/"
        },
        "id": "k7Evk_KxvW0y",
        "outputId": "a8aab093-5eac-45d8-c162-6019fe751be6"
      },
      "execution_count": 22,
      "outputs": [
        {
          "output_type": "stream",
          "name": "stdout",
          "text": [
            "Enter the number: 8\n",
            "8 is not prime\n"
          ]
        }
      ]
    },
    {
      "cell_type": "markdown",
      "source": [
        "**23. Print all the armstrong numbers in the range of 100 to 1000**"
      ],
      "metadata": {
        "id": "ND8h3MHiwxTc"
      }
    },
    {
      "cell_type": "code",
      "source": [
        "for num in range(100,1001):\n",
        "  num_str = str(num)\n",
        "  length = len(num_str)\n",
        "\n",
        "  sum = 0\n",
        "\n",
        "  \n",
        "  for i in num_str:\n",
        "    sum+= int(i)**length\n",
        "\n",
        "  if sum==num:\n",
        "    print(num)\n",
        "  \n"
      ],
      "metadata": {
        "colab": {
          "base_uri": "https://localhost:8080/"
        },
        "id": "JjpWMRQlwyhS",
        "outputId": "743cb683-5bd7-4daf-d6ef-cda2c0c0494b"
      },
      "execution_count": 23,
      "outputs": [
        {
          "output_type": "stream",
          "name": "stdout",
          "text": [
            "153\n",
            "370\n",
            "371\n",
            "407\n"
          ]
        }
      ]
    },
    {
      "cell_type": "markdown",
      "source": [
        "**24. The current population of a town is 10000. The population of the town is increasing at the rate of 10% per year. You have to write a program to find out the population at the end of each of the last 10 years. For eg current population is 10000 so the output should be like this:\n",
        "10th year - 10000\n",
        "9th year - 9000\n",
        "8th year - 8100 and so on**"
      ],
      "metadata": {
        "id": "Qb4NuXL4Kui9"
      }
    },
    {
      "cell_type": "code",
      "source": [
        "population = 10000\n",
        "\n",
        "for year in range(10, 0, -1):\n",
        "    print(f\"{year}th year - {int(population)}\")\n",
        "    population -= (0.1*population)\n"
      ],
      "metadata": {
        "colab": {
          "base_uri": "https://localhost:8080/"
        },
        "id": "MGARFGOfK8du",
        "outputId": "fab2b507-36e6-4b5c-f1c8-b0becf8e6810"
      },
      "execution_count": 24,
      "outputs": [
        {
          "output_type": "stream",
          "name": "stdout",
          "text": [
            "10th year - 10000\n",
            "9th year - 9000\n",
            "8th year - 8100\n",
            "7th year - 7290\n",
            "6th year - 6561\n",
            "5th year - 5904\n",
            "4th year - 5314\n",
            "3th year - 4782\n",
            "2th year - 4304\n",
            "1th year - 3874\n"
          ]
        }
      ]
    },
    {
      "cell_type": "markdown",
      "source": [
        "**25. Write a program to print all the unique combinations of 1,2,3 and 4**"
      ],
      "metadata": {
        "id": "XcE7soJyM7XV"
      }
    },
    {
      "cell_type": "code",
      "source": [
        "import itertools\n",
        "\n",
        "numbers = [1, 2, 3, 4]\n",
        "\n",
        "for r in range(1, len(numbers) + 1):\n",
        "    for combination in itertools.combinations(numbers, r):\n",
        "        print(combination)\n"
      ],
      "metadata": {
        "colab": {
          "base_uri": "https://localhost:8080/"
        },
        "id": "40G80V0zNBux",
        "outputId": "ad3e42d9-dd86-4c10-cc83-c8caf731814d"
      },
      "execution_count": 25,
      "outputs": [
        {
          "output_type": "stream",
          "name": "stdout",
          "text": [
            "(1,)\n",
            "(2,)\n",
            "(3,)\n",
            "(4,)\n",
            "(1, 2)\n",
            "(1, 3)\n",
            "(1, 4)\n",
            "(2, 3)\n",
            "(2, 4)\n",
            "(3, 4)\n",
            "(1, 2, 3)\n",
            "(1, 2, 4)\n",
            "(1, 3, 4)\n",
            "(2, 3, 4)\n",
            "(1, 2, 3, 4)\n"
          ]
        }
      ]
    },
    {
      "cell_type": "markdown",
      "source": [
        "**26. User will provide 2 numbers you have to find the HCF of those 2 numbers**"
      ],
      "metadata": {
        "id": "nEcD1ULwNevM"
      }
    },
    {
      "cell_type": "code",
      "source": [
        "num1 = int(input(\"Enter the first number: \"))\n",
        "num2 = int(input(\"Enter the second number: \"))\n",
        "\n",
        "if num1>num2:\n",
        "  min = num2\n",
        "else:\n",
        "  min = num1\n",
        "\n",
        "for i in range(1,min+1):\n",
        "  if (num1%i==0) and (num2%i==0):\n",
        "    hcf = i\n",
        "print(\"The HCF of these two numbers are: \",hcf)"
      ],
      "metadata": {
        "colab": {
          "base_uri": "https://localhost:8080/"
        },
        "id": "qZzgaIZ8Naw6",
        "outputId": "cf1b773f-d9fb-4fcf-9752-40d592141685"
      },
      "execution_count": 26,
      "outputs": [
        {
          "output_type": "stream",
          "name": "stdout",
          "text": [
            "Enter the first number: 15\n",
            "Enter the second number: 5\n",
            "The HCF of these two numbers are:  5\n"
          ]
        }
      ]
    },
    {
      "cell_type": "markdown",
      "source": [
        "**27. User will provide 2 numbers you have to find the by LCM of those 2 numbers**"
      ],
      "metadata": {
        "id": "3-r4ccBvTM-L"
      }
    },
    {
      "cell_type": "code",
      "source": [
        "num1 = int(input(\"Enter first number: \"))\n",
        "num2 = int(input(\"Enter second number: \"))\n",
        "\n",
        "if num1>num2:\n",
        "  max = num1\n",
        "else:\n",
        "  max = num2\n",
        "\n",
        "while(True):\n",
        "  if ((max%num1==0) and (max%num2==0)):\n",
        "    break\n",
        "  max+=1\n",
        "print(\"The LCM of these two numbers are\",max)\n",
        "\n"
      ],
      "metadata": {
        "colab": {
          "base_uri": "https://localhost:8080/"
        },
        "id": "Ed9ZDG3uTPfc",
        "outputId": "ceec33ed-723a-4f79-e19e-5576e7e32118"
      },
      "execution_count": 27,
      "outputs": [
        {
          "output_type": "stream",
          "name": "stdout",
          "text": [
            "Enter first number: 6\n",
            "Enter second number: 4\n",
            "The LCM of these two numbers are 12\n"
          ]
        }
      ]
    },
    {
      "cell_type": "markdown",
      "source": [
        "**28. Print first 25 prime numbers**"
      ],
      "metadata": {
        "id": "K9OHwC8MU0n6"
      }
    },
    {
      "cell_type": "code",
      "source": [
        "def is_prime(num):\n",
        "    if num < 2:\n",
        "        return False\n",
        "    for i in range(2, int(num ** 0.5) + 1):\n",
        "        if num % i == 0:\n",
        "            return False\n",
        "    return True\n",
        "\n",
        "count = 0\n",
        "num = 2\n",
        "while count < 25:\n",
        "    if is_prime(num):\n",
        "        print(num)\n",
        "        count += 1\n",
        "    num += 1\n"
      ],
      "metadata": {
        "id": "V6iAKSMbfUdW",
        "outputId": "c5e703a8-bfbf-47cb-856d-c820f14ad858",
        "colab": {
          "base_uri": "https://localhost:8080/"
        }
      },
      "execution_count": 85,
      "outputs": [
        {
          "output_type": "stream",
          "name": "stdout",
          "text": [
            "2\n",
            "3\n",
            "5\n",
            "7\n",
            "11\n",
            "13\n",
            "17\n",
            "19\n",
            "23\n",
            "29\n",
            "31\n",
            "37\n",
            "41\n",
            "43\n",
            "47\n",
            "53\n",
            "59\n",
            "61\n",
            "67\n",
            "71\n",
            "73\n",
            "79\n",
            "83\n",
            "89\n",
            "97\n"
          ]
        }
      ]
    },
    {
      "cell_type": "markdown",
      "source": [
        "**29.Print the first 20 numbers of a Fibonacci series**"
      ],
      "metadata": {
        "id": "bwwY6XaHY_1S"
      }
    },
    {
      "cell_type": "code",
      "source": [
        "def fibonacci(n):\n",
        "    sequence = []\n",
        "    if n >= 1:\n",
        "        sequence.append(0)\n",
        "    if n >= 2:\n",
        "        sequence.append(1)\n",
        "    for i in range(2, n):\n",
        "        sequence.append(sequence[i-1] + sequence[i-2])\n",
        "    return sequence\n",
        "\n",
        "fib_sequence = fibonacci(20)\n",
        "for num in fib_sequence:\n",
        "    print(num)\n"
      ],
      "metadata": {
        "id": "CZUzyI7UfZGb",
        "outputId": "954a8574-6ae0-4f86-f378-a0cb27c71682",
        "colab": {
          "base_uri": "https://localhost:8080/"
        }
      },
      "execution_count": 86,
      "outputs": [
        {
          "output_type": "stream",
          "name": "stdout",
          "text": [
            "0\n",
            "1\n",
            "1\n",
            "2\n",
            "3\n",
            "5\n",
            "8\n",
            "13\n",
            "21\n",
            "34\n",
            "55\n",
            "89\n",
            "144\n",
            "233\n",
            "377\n",
            "610\n",
            "987\n",
            "1597\n",
            "2584\n",
            "4181\n"
          ]
        }
      ]
    },
    {
      "cell_type": "markdown",
      "source": [
        "**30. Write a program to find the compound interest**"
      ],
      "metadata": {
        "id": "uK3jNtBzZ0F_"
      }
    },
    {
      "cell_type": "code",
      "source": [
        "def compound_interest(principal, rate, time):\n",
        "    # Calculate compound interest\n",
        "    amount = principal * (1 + rate/100) ** time\n",
        "    interest = amount - principal\n",
        "    \n",
        "    Total_amount = amount + interest\n",
        "   \n",
        "    # Print results\n",
        "    print(\"Total amount:\", amount)\n",
        "\n",
        "# Example usage\n",
        "compound_interest(10000, 5, 3)\n"
      ],
      "metadata": {
        "id": "bKVYb2lbZ9R7",
        "colab": {
          "base_uri": "https://localhost:8080/"
        },
        "outputId": "93c749ea-9539-498a-e8cc-953469265598"
      },
      "execution_count": 31,
      "outputs": [
        {
          "output_type": "stream",
          "name": "stdout",
          "text": [
            "Total amount: 11576.250000000002\n"
          ]
        }
      ]
    },
    {
      "cell_type": "markdown",
      "source": [
        "**31. Write a Python program that accepts an integer (n) and computes the value of n+nn+nnn.**"
      ],
      "metadata": {
        "id": "FErVvU0NatET"
      }
    },
    {
      "cell_type": "code",
      "source": [
        "n = int(input(\"Enter the value of n: \"))\n",
        "\n",
        "nn = n*10 + n\n",
        "nnn = n*1000 + nn\n",
        "\n",
        "result = n + nn + nnn\n",
        "\n",
        "print(\"The value is: \",result)"
      ],
      "metadata": {
        "id": "smvlQ9onbDQP",
        "colab": {
          "base_uri": "https://localhost:8080/"
        },
        "outputId": "ae68c2ba-2f1c-4fc6-f791-ff4afbd57c4e"
      },
      "execution_count": 32,
      "outputs": [
        {
          "output_type": "stream",
          "name": "stdout",
          "text": [
            "Enter the value of n: 6\n",
            "The value is:  6138\n"
          ]
        }
      ]
    },
    {
      "cell_type": "markdown",
      "source": [
        "**32. Write a program to print the following pattern**\n",
        "\n",
        "\n",
        "\n",
        "\n",
        "\n",
        "\n",
        "\n",
        "\n",
        "\n",
        "\n",
        "\n",
        "\n",
        "\n",
        "\n"
      ],
      "metadata": {
        "id": "jlhAu5xAbaTW"
      }
    },
    {
      "cell_type": "code",
      "source": [
        "n = int(input())\n",
        "for i in range(1,n+1):\n",
        "  print('*'*i)"
      ],
      "metadata": {
        "colab": {
          "base_uri": "https://localhost:8080/"
        },
        "id": "6hU9G3EChVG0",
        "outputId": "e26f1ff1-dd91-467a-8978-a242d2eee1ec"
      },
      "execution_count": 33,
      "outputs": [
        {
          "output_type": "stream",
          "name": "stdout",
          "text": [
            "5\n",
            "*\n",
            "**\n",
            "***\n",
            "****\n",
            "*****\n"
          ]
        }
      ]
    },
    {
      "cell_type": "markdown",
      "source": [
        "**33. Write  a program to print the following pattern**\n",
        "        \n"
      ],
      "metadata": {
        "id": "sk4ppRrxiRt8"
      }
    },
    {
      "cell_type": "code",
      "source": [
        "n = int(input())\n",
        "for i in range(1,n+1):\n",
        "  print(('* '*i).center(50,' '))"
      ],
      "metadata": {
        "colab": {
          "base_uri": "https://localhost:8080/"
        },
        "id": "zxJhOyR3iaeb",
        "outputId": "1807684c-954f-455f-a5c5-8c202f6f9d90"
      },
      "execution_count": 84,
      "outputs": [
        {
          "output_type": "stream",
          "name": "stdout",
          "text": [
            "5\n",
            "                        *                         \n",
            "                       * *                        \n",
            "                      * * *                       \n",
            "                     * * * *                      \n",
            "                    * * * * *                     \n"
          ]
        }
      ]
    },
    {
      "cell_type": "markdown",
      "source": [
        "**34. Write a program to print the following pattern**"
      ],
      "metadata": {
        "id": "YBchZUG6kLrv"
      }
    },
    {
      "cell_type": "code",
      "source": [
        "def print_pattern(n):\n",
        "    for i in range(1, n + 1):\n",
        "        line = \"\"\n",
        "        for j in range(1, i + 1):\n",
        "            line += str(j) + \" \"\n",
        "        for j in range(i - 1, 0, -1):\n",
        "            line += str(j) + \" \"\n",
        "        print(line.strip())\n",
        "\n",
        "n = 5\n",
        "print_pattern(n)\n"
      ],
      "metadata": {
        "colab": {
          "base_uri": "https://localhost:8080/"
        },
        "id": "RICMo5tKkTIE",
        "outputId": "55a512f3-5622-4618-b771-03be739487c0"
      },
      "execution_count": 34,
      "outputs": [
        {
          "output_type": "stream",
          "name": "stdout",
          "text": [
            "1\n",
            "1 2 1\n",
            "1 2 3 2 1\n",
            "1 2 3 4 3 2 1\n",
            "1 2 3 4 5 4 3 2 1\n"
          ]
        }
      ]
    },
    {
      "cell_type": "markdown",
      "source": [
        "**35. Write a program to print the following pattern**"
      ],
      "metadata": {
        "id": "8Ndc-CupkuqI"
      }
    },
    {
      "cell_type": "code",
      "source": [
        "def print_pattern(n):\n",
        "    num = 1\n",
        "    for i in range(1, n + 1):\n",
        "        line = \"\"\n",
        "        for j in range(i):\n",
        "            line += str(num) + \" \"\n",
        "            num += 1\n",
        "        print(line.strip())\n",
        "\n",
        "n = 4\n",
        "print_pattern(n)\n"
      ],
      "metadata": {
        "colab": {
          "base_uri": "https://localhost:8080/"
        },
        "id": "_QTCNpUPlDHm",
        "outputId": "52a40e37-5a39-4015-b6e8-3b572bbe0e21"
      },
      "execution_count": 35,
      "outputs": [
        {
          "output_type": "stream",
          "name": "stdout",
          "text": [
            "1\n",
            "2 3\n",
            "4 5 6\n",
            "7 8 9 10\n"
          ]
        }
      ]
    },
    {
      "cell_type": "markdown",
      "source": [
        "**36. Write a program to calculate the sum of the following series till the nth term\n",
        "1/1! + 2/2! + 3/3! + 4/4! +…….+ n/n!\n",
        "n will be provided by the user**"
      ],
      "metadata": {
        "id": "FzB68PdblKbH"
      }
    },
    {
      "cell_type": "code",
      "source": [
        "def factorial(n):\n",
        "  if n==0 or n==1:\n",
        "    return 1\n",
        "  else:\n",
        "    return n*factorial(n-1)\n",
        "def sum_of_series(n):\n",
        "  sum = 0\n",
        "  for i in range(1,n+1):\n",
        "    term = i/factorial(i)\n",
        "    sum+=term\n",
        "  return sum\n",
        "n = int(input('Enter the number: '))\n",
        "result = sum_of_series(n)\n",
        "print(\"Sum of the series are: \",result)"
      ],
      "metadata": {
        "colab": {
          "base_uri": "https://localhost:8080/"
        },
        "id": "1vHZmqAWlQAS",
        "outputId": "1b8512f0-713d-483f-bdbf-d636087d2427"
      },
      "execution_count": 36,
      "outputs": [
        {
          "output_type": "stream",
          "name": "stdout",
          "text": [
            "Enter the number: 7\n",
            "Sum of the series are:  2.7180555555555554\n"
          ]
        }
      ]
    },
    {
      "cell_type": "markdown",
      "source": [
        "**37. Write a Python Program to Find the Sum of the Series till the nth term: \n",
        "1 + x^2/2 + x^3/3 + … x^n/n\n",
        "n will be provided by the user**"
      ],
      "metadata": {
        "id": "C5egz1dRmk0i"
      }
    },
    {
      "cell_type": "code",
      "source": [
        "n = int(input(\"Enter the number: \"))\n",
        "x = int(input(\"Enter the value of x: \"))\n",
        "sum = 1\n",
        "for i in range(1,n+1):\n",
        "  sum+= (x**i)/i\n",
        "print(\"Sum of the series are: \",sum)"
      ],
      "metadata": {
        "colab": {
          "base_uri": "https://localhost:8080/"
        },
        "id": "n605_yllmt_O",
        "outputId": "bcedac4d-e211-4a43-fa9e-13f03c582cf9"
      },
      "execution_count": 37,
      "outputs": [
        {
          "output_type": "stream",
          "name": "stdout",
          "text": [
            "Enter the number: 6\n",
            "Enter the value of x: 2\n",
            "Sum of the series are:  28.733333333333334\n"
          ]
        }
      ]
    },
    {
      "cell_type": "markdown",
      "source": [
        "**38. The natural logarithm can be approximated by the following series.\n",
        "      (x-1/x) + 1/2 * (x-1/x)^2 + 1/2 *(x-1/x)^3+....\n",
        "If x is input through the keyboard, write a program to calculate the sum of the first seven terms of this series.** \n"
      ],
      "metadata": {
        "id": "t_HwifKkno-l"
      }
    },
    {
      "cell_type": "code",
      "source": [
        "x = int(input(\"Enter the value of x: \"))\n",
        "term = (x-1/x)\n",
        "sum = 0\n",
        "for i in range(1,8):\n",
        "  sum+=(1/2)*(term**i)\n",
        "  sum\n",
        "print(\"Sum of the first seven terms are: \",sum)\n"
      ],
      "metadata": {
        "colab": {
          "base_uri": "https://localhost:8080/"
        },
        "id": "v3_HYqenoJXu",
        "outputId": "caf77f49-efd9-4f3d-fb51-66878028535a"
      },
      "execution_count": 38,
      "outputs": [
        {
          "output_type": "stream",
          "name": "stdout",
          "text": [
            "Enter the value of x: 2\n",
            "Sum of the first seven terms are:  24.12890625\n"
          ]
        }
      ]
    },
    {
      "cell_type": "markdown",
      "source": [
        "**39.  Write a program that keeps on accepting a number from the user until the user enters Zero. Display the sum and average of all the numbers.**"
      ],
      "metadata": {
        "id": "eGE2eFolwRqh"
      }
    },
    {
      "cell_type": "code",
      "source": [
        "numbers = []\n",
        "while True:\n",
        "    num = int(input(\"Enter a number (enter 0 to stop): \"))\n",
        "    if num == 0:\n",
        "        break\n",
        "    numbers.append(num)\n",
        "\n",
        "sum_numbers = sum(numbers)\n",
        "average = sum_numbers / len(numbers)\n",
        "\n",
        "print(\"Sum:\", sum_numbers)\n",
        "print(\"Average:\", average)"
      ],
      "metadata": {
        "id": "2ScrAVbdfEb_"
      },
      "execution_count": null,
      "outputs": []
    },
    {
      "cell_type": "markdown",
      "source": [
        "**40 Write a program that accepts 2 numbers from the user a numerator and a denominator and then simplifies it\n",
        "Eg if the num = 5, den = 15 the answer should be ⅓\n",
        "Eg if the num = 6, den = 9 the answer should be ⅔**"
      ],
      "metadata": {
        "id": "lBA9I7VOxrFO"
      }
    },
    {
      "cell_type": "code",
      "source": [
        "def gcd(a, b):\n",
        "    # Find the greatest common divisor (GCD) of two numbers\n",
        "    while b:\n",
        "        a, b = b, a % b\n",
        "    return a\n",
        "\n",
        "def simplify_fraction(numerator, denominator):\n",
        "    # Simplify the fraction by dividing both numerator and denominator by their GCD\n",
        "    greatest_common_divisor = gcd(numerator, denominator)\n",
        "    simplified_num = numerator // greatest_common_divisor\n",
        "    simplified_den = denominator // greatest_common_divisor\n",
        "    return simplified_num, simplified_den\n",
        "\n",
        "# Get numerator and denominator from the user\n",
        "num = int(input(\"Enter the numerator: \"))\n",
        "den = int(input(\"Enter the denominator: \"))\n",
        "\n",
        "# Simplify the fraction\n",
        "simplified_num, simplified_den = simplify_fraction(num, den)\n",
        "\n",
        "# Print the simplified fraction\n",
        "print(f\"The simplified fraction is {simplified_num}/{simplified_den}\")\n",
        "\n",
        "\n",
        "      \n"
      ],
      "metadata": {
        "colab": {
          "base_uri": "https://localhost:8080/"
        },
        "id": "12dWHFnBxuVo",
        "outputId": "90513712-b233-4f87-9662-d62ea15b5c12"
      },
      "execution_count": 41,
      "outputs": [
        {
          "output_type": "stream",
          "name": "stdout",
          "text": [
            "Enter the numerator: 6\n",
            "Enter the denominator: 8\n",
            "The simplified fraction is 3/4\n"
          ]
        }
      ]
    },
    {
      "cell_type": "markdown",
      "source": [
        "**41. Find the length of a given string without using the len() function.**\n"
      ],
      "metadata": {
        "id": "7lemklsPcZy8"
      }
    },
    {
      "cell_type": "code",
      "source": [
        "def str_len(in_str):\n",
        "  count=0\n",
        "  for i in in_str:\n",
        "    count+=1\n",
        "  return count\n",
        "\n",
        "str_len(\"Intelligence\")"
      ],
      "metadata": {
        "colab": {
          "base_uri": "https://localhost:8080/"
        },
        "id": "DzHOg-MOccnx",
        "outputId": "28711729-d276-4b1d-eae9-7ae625954f0c"
      },
      "execution_count": 42,
      "outputs": [
        {
          "output_type": "execute_result",
          "data": {
            "text/plain": [
              "12"
            ]
          },
          "metadata": {},
          "execution_count": 42
        }
      ]
    },
    {
      "cell_type": "markdown",
      "source": [
        "**42. Extract username from a given email. \n",
        "Eg if the email is sonalithakur196@gmail.com then the username should be nitish24singh**"
      ],
      "metadata": {
        "id": "tAFGYLN8dfve"
      }
    },
    {
      "cell_type": "code",
      "source": [
        "def extract_name(email):\n",
        "  #split the email at '@' symbol\n",
        "  parts = email.split('1')\n",
        "  username = parts[0]\n",
        "  print(username)\n",
        "\n",
        "\n",
        "\n",
        "extract_name('sonalithakur196@gmail.com')\n"
      ],
      "metadata": {
        "colab": {
          "base_uri": "https://localhost:8080/"
        },
        "id": "XBPawqWhdqQW",
        "outputId": "7f4db61a-5a34-4031-b6cf-1393a2c250be"
      },
      "execution_count": 43,
      "outputs": [
        {
          "output_type": "stream",
          "name": "stdout",
          "text": [
            "sonalithakur\n"
          ]
        }
      ]
    },
    {
      "cell_type": "markdown",
      "source": [
        "**43. Count the frequency of a particular character in a provided string. Eg 'hello how are you' is the string, the frequency of h in this string is 2.**"
      ],
      "metadata": {
        "id": "uPyvH5gUfXrL"
      }
    },
    {
      "cell_type": "code",
      "source": [
        "def count_freq(in_str,char):\n",
        "  count = 0\n",
        "  for i in in_str:\n",
        "    if i==char:\n",
        "      count+=1\n",
        "  return count\n",
        "count_freq( 'hello how are you','h')\n",
        "    \n"
      ],
      "metadata": {
        "colab": {
          "base_uri": "https://localhost:8080/"
        },
        "id": "Vlk21lTlfg-a",
        "outputId": "155e38cd-30ea-48f6-d256-cf4a91378b62"
      },
      "execution_count": 44,
      "outputs": [
        {
          "output_type": "execute_result",
          "data": {
            "text/plain": [
              "2"
            ]
          },
          "metadata": {},
          "execution_count": 44
        }
      ]
    },
    {
      "cell_type": "markdown",
      "source": [
        "**44. Find the index position of a particular character in another string.**"
      ],
      "metadata": {
        "id": "-AEyQdfmgqz5"
      }
    },
    {
      "cell_type": "code",
      "source": [
        "def calculate_ind(in_str,char):\n",
        "  in_str = ' '.join(in_str)\n",
        "  l = in_str.split()\n",
        "  for i in l:\n",
        "    if i==char:\n",
        "      ind = l.index(i)\n",
        "  return ind\n",
        "calculate_ind('Hippopotamus','i')"
      ],
      "metadata": {
        "colab": {
          "base_uri": "https://localhost:8080/"
        },
        "id": "xZuy8auHfpxh",
        "outputId": "c190c9b5-f0b7-4cc4-9f78-4437b2acdbf7"
      },
      "execution_count": 45,
      "outputs": [
        {
          "output_type": "execute_result",
          "data": {
            "text/plain": [
              "1"
            ]
          },
          "metadata": {},
          "execution_count": 45
        }
      ]
    },
    {
      "cell_type": "markdown",
      "source": [
        "**45. Count the number of vowels in a string provided by the user.**"
      ],
      "metadata": {
        "id": "wBp4XllmifDg"
      }
    },
    {
      "cell_type": "code",
      "source": [
        "def count_vow(in_str):\n",
        "  vow = ['a','e','i','o','u']\n",
        "  in_str = in_str.lower()\n",
        "  count=0\n",
        "  for i in in_str:\n",
        "    if i in vow:\n",
        "      count+=1\n",
        "  return count\n",
        "count_vow(\"Terminate the loop\")"
      ],
      "metadata": {
        "colab": {
          "base_uri": "https://localhost:8080/"
        },
        "id": "89MogsMmhEFb",
        "outputId": "f7c150c6-4697-4d51-dce4-7c0c7acee3ce"
      },
      "execution_count": 46,
      "outputs": [
        {
          "output_type": "execute_result",
          "data": {
            "text/plain": [
              "7"
            ]
          },
          "metadata": {},
          "execution_count": 46
        }
      ]
    },
    {
      "cell_type": "markdown",
      "source": [
        "**46. Write a program which can remove a particular character from a string.**"
      ],
      "metadata": {
        "id": "REdSwqx9jGPl"
      }
    },
    {
      "cell_type": "code",
      "source": [
        "def remove_char(in_str,char):\n",
        "  new_str = in_str.replace(char,\"\")\n",
        "  return new_str\n",
        "remove_char(\"Hippopotamus\",'p')"
      ],
      "metadata": {
        "colab": {
          "base_uri": "https://localhost:8080/",
          "height": 35
        },
        "id": "ARfnT9sLiE4o",
        "outputId": "28319b91-ec3a-41c0-d4fc-c40ea848f7ab"
      },
      "execution_count": 47,
      "outputs": [
        {
          "output_type": "execute_result",
          "data": {
            "text/plain": [
              "'Hiootamus'"
            ],
            "application/vnd.google.colaboratory.intrinsic+json": {
              "type": "string"
            }
          },
          "metadata": {},
          "execution_count": 47
        }
      ]
    },
    {
      "cell_type": "markdown",
      "source": [
        "**47. Write a program that can check whether a given string is palindrome or not.**"
      ],
      "metadata": {
        "id": "jKcx23hMjnD1"
      }
    },
    {
      "cell_type": "code",
      "source": [
        "def check_pallindrome(in_str):\n",
        "  in_str = in_str.replace(\" \",'').lower()\n",
        "  out_str = in_str[::-1]\n",
        "  if in_str == out_str:\n",
        "    return True\n",
        "  else:\n",
        "    return False\n",
        "check_pallindrome(\"racecar\")"
      ],
      "metadata": {
        "colab": {
          "base_uri": "https://localhost:8080/"
        },
        "id": "mLvCsuWYjt5y",
        "outputId": "dc7fb48d-7a52-4614-ca66-086a7dfaad80"
      },
      "execution_count": 48,
      "outputs": [
        {
          "output_type": "execute_result",
          "data": {
            "text/plain": [
              "True"
            ]
          },
          "metadata": {},
          "execution_count": 48
        }
      ]
    },
    {
      "cell_type": "markdown",
      "source": [
        "**48. Write a python program to remove all the duplicates from a list**"
      ],
      "metadata": {
        "id": "C3fdo9x5kcGz"
      }
    },
    {
      "cell_type": "code",
      "source": [
        "def remove_duplicate(in_list):\n",
        "  new_list= set(in_list)\n",
        "  return list(new_list)\n",
        "remove_duplicate([2,7,2,9,0,5,2,3,6,7])"
      ],
      "metadata": {
        "colab": {
          "base_uri": "https://localhost:8080/"
        },
        "id": "NGzmdjOnkjWy",
        "outputId": "2c33dac0-df82-47a3-f787-7106d95d7608"
      },
      "execution_count": 49,
      "outputs": [
        {
          "output_type": "execute_result",
          "data": {
            "text/plain": [
              "[0, 2, 3, 5, 6, 7, 9]"
            ]
          },
          "metadata": {},
          "execution_count": 49
        }
      ]
    },
    {
      "cell_type": "markdown",
      "source": [
        "**49. Write a python program to convert a string to title case without using the title()**"
      ],
      "metadata": {
        "id": "P0CnztzFla0u"
      }
    },
    {
      "cell_type": "code",
      "source": [
        "def convert_to_title(in_str):\n",
        "  words = in_str.split()\n",
        "  title = []\n",
        "  for i in words:\n",
        "    title.append((i[0].upper())+(i[1:]))\n",
        "  title = ' '.join(title)\n",
        "  return title\n",
        "convert_to_title('mathematics')"
      ],
      "metadata": {
        "colab": {
          "base_uri": "https://localhost:8080/",
          "height": 35
        },
        "id": "UtowHWYwlvcY",
        "outputId": "e7d5e2dd-1703-470a-a8f3-3541010b12e2"
      },
      "execution_count": 50,
      "outputs": [
        {
          "output_type": "execute_result",
          "data": {
            "text/plain": [
              "'Mathematics'"
            ],
            "application/vnd.google.colaboratory.intrinsic+json": {
              "type": "string"
            }
          },
          "metadata": {},
          "execution_count": 50
        }
      ]
    },
    {
      "cell_type": "markdown",
      "source": [
        "**50. Write a python program to find the max item from a list without using the max function**"
      ],
      "metadata": {
        "id": "3uM5WAjHoFp3"
      }
    },
    {
      "cell_type": "code",
      "source": [
        "def max_item(in_list):\n",
        "  out_str = sorted(in_list)\n",
        "  return out_str[-1]\n",
        "max_item([3,8,9,0,4,1])\n",
        "  \n",
        "    \n"
      ],
      "metadata": {
        "colab": {
          "base_uri": "https://localhost:8080/"
        },
        "id": "MNdKkdSIoLVM",
        "outputId": "b8f82c49-bbdb-44fe-d998-88fd7c12a01b"
      },
      "execution_count": 51,
      "outputs": [
        {
          "output_type": "execute_result",
          "data": {
            "text/plain": [
              "9"
            ]
          },
          "metadata": {},
          "execution_count": 51
        }
      ]
    },
    {
      "cell_type": "markdown",
      "source": [
        "**51. Write a python program to reverse a list**"
      ],
      "metadata": {
        "id": "fRn6segrqQHw"
      }
    },
    {
      "cell_type": "code",
      "source": [
        "def rever_list(in_list):\n",
        "  return in_list[::-1]\n",
        "rever_list(['apple','boy','cat','dog','egg','fish','goat'])"
      ],
      "metadata": {
        "colab": {
          "base_uri": "https://localhost:8080/"
        },
        "id": "Wv6WBfw4luEk",
        "outputId": "e8491c85-5047-4813-953d-e6bc7259e485"
      },
      "execution_count": 52,
      "outputs": [
        {
          "output_type": "execute_result",
          "data": {
            "text/plain": [
              "['goat', 'fish', 'egg', 'dog', 'cat', 'boy', 'apple']"
            ]
          },
          "metadata": {},
          "execution_count": 52
        }
      ]
    },
    {
      "cell_type": "markdown",
      "source": [
        "**52. Write a python program to search a given number from a list**"
      ],
      "metadata": {
        "id": "j68Jl6UPqjOe"
      }
    },
    {
      "cell_type": "code",
      "source": [
        "def search_num(in_list,num):\n",
        "  for i in in_list:\n",
        "    if i==num:\n",
        "      return num\n",
        "search_num([1,6,9,3,2,0],0)"
      ],
      "metadata": {
        "colab": {
          "base_uri": "https://localhost:8080/"
        },
        "id": "N9WlySDUqsOr",
        "outputId": "7a225c3e-1955-4fde-d618-7bf890a5f2ee"
      },
      "execution_count": 53,
      "outputs": [
        {
          "output_type": "execute_result",
          "data": {
            "text/plain": [
              "0"
            ]
          },
          "metadata": {},
          "execution_count": 53
        }
      ]
    },
    {
      "cell_type": "markdown",
      "source": [
        "**53.Write a program that can create a new list from a given list where each item in the new list is square of the item of the old list**"
      ],
      "metadata": {
        "id": "klk0YGvUq-LL"
      }
    },
    {
      "cell_type": "code",
      "source": [
        "def sqar_list(in_list):\n",
        "  new_list = []\n",
        "  for i in in_list:\n",
        "    new_list.append(i**2)\n",
        "\n",
        "  return new_list\n",
        "sqar_list([1,2,3,4,5])"
      ],
      "metadata": {
        "colab": {
          "base_uri": "https://localhost:8080/"
        },
        "id": "3kz3f5ABrFt_",
        "outputId": "29817a80-8a84-4831-a627-c5fe631aca48"
      },
      "execution_count": 54,
      "outputs": [
        {
          "output_type": "execute_result",
          "data": {
            "text/plain": [
              "[1, 4, 9, 16, 25]"
            ]
          },
          "metadata": {},
          "execution_count": 54
        }
      ]
    },
    {
      "cell_type": "markdown",
      "source": [
        "**54.Write a program that can reverse words of a given string.\n",
        "Eg if the input is Hello how are you\n",
        "Output should be you are how Hello**"
      ],
      "metadata": {
        "id": "g_k9kODOrYrB"
      }
    },
    {
      "cell_type": "code",
      "source": [
        "in_str = 'Hello how are you'\n",
        "in_str  =  in_str.split()\n",
        "new_str = in_str[::-1]\n",
        "print(' '.join(new_str))"
      ],
      "metadata": {
        "colab": {
          "base_uri": "https://localhost:8080/"
        },
        "id": "1TyyRIYyrfEC",
        "outputId": "a47f689a-a0cd-48b3-e1de-e3a6e8c4e579"
      },
      "execution_count": 55,
      "outputs": [
        {
          "output_type": "stream",
          "name": "stdout",
          "text": [
            "you are how Hello\n"
          ]
        }
      ]
    },
    {
      "cell_type": "markdown",
      "source": [
        "**55.Write a program that can count the number of words in a given string**"
      ],
      "metadata": {
        "id": "3WdgsEwnsOaM"
      }
    },
    {
      "cell_type": "code",
      "source": [
        "in_str = input(\"Eter the string: \")\n",
        "new_str = in_str.split(' ')\n",
        "print(\"Number of words in a string: \",len(new_str))"
      ],
      "metadata": {
        "colab": {
          "base_uri": "https://localhost:8080/"
        },
        "id": "MlYbvj-5sayj",
        "outputId": "e4809fac-0267-4ca8-d666-e8b066ee71c1"
      },
      "execution_count": 57,
      "outputs": [
        {
          "output_type": "stream",
          "name": "stdout",
          "text": [
            "Eter the string: fghty\n",
            "Number of words in a string:  1\n"
          ]
        }
      ]
    },
    {
      "cell_type": "markdown",
      "source": [
        "**56.Write a program to check if a list is in ascending order or not**"
      ],
      "metadata": {
        "id": "Tp9psd7_s7-l"
      }
    },
    {
      "cell_type": "code",
      "source": [
        "def check_asc(in_list):\n",
        "  new_list = sorted(in_list)\n",
        "  if in_list == new_list:\n",
        "    return True\n",
        "  else:\n",
        "    return False\n",
        "check_asc([5,4,3,2,1])"
      ],
      "metadata": {
        "colab": {
          "base_uri": "https://localhost:8080/"
        },
        "id": "_3Xj0cM_tCMm",
        "outputId": "6bdd9d5c-3709-4658-c443-627f988f548e"
      },
      "execution_count": 56,
      "outputs": [
        {
          "output_type": "execute_result",
          "data": {
            "text/plain": [
              "False"
            ]
          },
          "metadata": {},
          "execution_count": 56
        }
      ]
    },
    {
      "cell_type": "markdown",
      "source": [
        "**57. Create 2 lists from a given list where 1st list will contain all the odd numbers from the original list and the 2nd one will contain all the even numbers**"
      ],
      "metadata": {
        "id": "eKxzo09dtXnG"
      }
    },
    {
      "cell_type": "code",
      "source": [
        "def create_2list(in_list):\n",
        "  l1 = [i for i in in_list if i%2!=0]\n",
        "  l2 = [i for i in in_list if i%2==0]\n",
        "  print(\"List of odd numbers\",l1)\n",
        "  print(\"List of even numbers\",l2)\n",
        "create_2list([20,21,22,23,24,25,26,27,28,29,30])\n",
        "  "
      ],
      "metadata": {
        "colab": {
          "base_uri": "https://localhost:8080/"
        },
        "id": "W1t-n7KTtek5",
        "outputId": "8a7fd98d-b406-4c8c-a089-e45fbf602366"
      },
      "execution_count": 58,
      "outputs": [
        {
          "output_type": "stream",
          "name": "stdout",
          "text": [
            "List of odd numbers [21, 23, 25, 27, 29]\n",
            "List of even numbers [20, 22, 24, 26, 28, 30]\n"
          ]
        }
      ]
    },
    {
      "cell_type": "markdown",
      "source": [
        "**58. Write a program to merge 2 list without using the + operator**"
      ],
      "metadata": {
        "id": "G8iryk2EuInT"
      }
    },
    {
      "cell_type": "code",
      "source": [
        "def merge_list(l1,l2):\n",
        "  new_list = list(set(l1).union(set(l2)))\n",
        "  return new_list\n",
        "merge_list([1,2,3],[4,5,6])"
      ],
      "metadata": {
        "colab": {
          "base_uri": "https://localhost:8080/"
        },
        "id": "woXPEbz8uQcJ",
        "outputId": "52043ba4-ddef-46f2-ac94-9fdee4a893ea"
      },
      "execution_count": 59,
      "outputs": [
        {
          "output_type": "execute_result",
          "data": {
            "text/plain": [
              "[1, 2, 3, 4, 5, 6]"
            ]
          },
          "metadata": {},
          "execution_count": 59
        }
      ]
    },
    {
      "cell_type": "markdown",
      "source": [
        "**59. .Write a program to replace an item with a different item if found in the\n",
        "list**"
      ],
      "metadata": {
        "id": "_O-ZWC7AunYR"
      }
    },
    {
      "cell_type": "code",
      "source": [
        "def replacement(in_list,replace_char,new_char):\n",
        "  for i in range(len(in_list)):\n",
        "    if in_list[i]==replace_char:\n",
        "      in_list[i]=new_char\n",
        "  return in_list\n",
        "replacement([1,2,3,4,5,0],0,'@')"
      ],
      "metadata": {
        "colab": {
          "base_uri": "https://localhost:8080/"
        },
        "id": "hsPSniPWN9Kp",
        "outputId": "a0e753b0-b61b-42e2-bc12-003d07d6e672"
      },
      "execution_count": 60,
      "outputs": [
        {
          "output_type": "execute_result",
          "data": {
            "text/plain": [
              "[1, 2, 3, 4, 5, '@']"
            ]
          },
          "metadata": {},
          "execution_count": 60
        }
      ]
    },
    {
      "cell_type": "markdown",
      "source": [
        "**60. .Write a program that can convert a 2D list to 1D listWrite a program that\n",
        "can print**"
      ],
      "metadata": {
        "id": "2QlstMeEO1VW"
      }
    },
    {
      "cell_type": "code",
      "source": [
        "def twoDlist_to_oneDlist(in_list):\n",
        "  new_list = []\n",
        "  for i in in_list:\n",
        "    new_list.extend(i)\n",
        "  return new_list\n",
        "twoDlist_to_oneDlist([[1,2,3],['a','b','c'],['!','@','%','#','&']])\n"
      ],
      "metadata": {
        "colab": {
          "base_uri": "https://localhost:8080/"
        },
        "id": "J4RkJ9btPmi4",
        "outputId": "6bc8bc9c-1594-4108-d02e-95510e0f1f21"
      },
      "execution_count": 61,
      "outputs": [
        {
          "output_type": "execute_result",
          "data": {
            "text/plain": [
              "[1, 2, 3, 'a', 'b', 'c', '!', '@', '%', '#', '&']"
            ]
          },
          "metadata": {},
          "execution_count": 61
        }
      ]
    },
    {
      "cell_type": "markdown",
      "source": [
        "**61. . Write a program that can perform union and intersection on 2 given list**"
      ],
      "metadata": {
        "id": "q2bhj9_pQMuf"
      }
    },
    {
      "cell_type": "code",
      "source": [
        "def union_or_inter(l1,l2):\n",
        "  union_list = list(set(l1).union(set(l2)))\n",
        "  inter_list = list(set(l1).intersection(set(l2)))\n",
        "  print(union_list)\n",
        "  print(inter_list)\n",
        "union_or_inter([1,2,3,4],[3,4,5,6,7])"
      ],
      "metadata": {
        "colab": {
          "base_uri": "https://localhost:8080/"
        },
        "id": "OfbPO0XLQVo8",
        "outputId": "8ecc2956-1a0b-4f36-eaf3-495bf6b91f27"
      },
      "execution_count": 62,
      "outputs": [
        {
          "output_type": "stream",
          "name": "stdout",
          "text": [
            "[1, 2, 3, 4, 5, 6, 7]\n",
            "[3, 4]\n"
          ]
        }
      ]
    },
    {
      "cell_type": "markdown",
      "source": [
        "**62.The max item of each row of a matrix**"
      ],
      "metadata": {
        "id": "5URIZJpQRKnW"
      }
    },
    {
      "cell_type": "code",
      "source": [
        "def max_items_in_rows(matrix):\n",
        "    max_items = []\n",
        "    for row in matrix:\n",
        "        max_item = max(row)\n",
        "        max_items.append(max_item)\n",
        "    return max_items\n",
        "\n",
        "\n"
      ],
      "metadata": {
        "id": "HrI_F3eIRWNi"
      },
      "execution_count": 81,
      "outputs": []
    },
    {
      "cell_type": "markdown",
      "source": [
        "**63. Write a program that can convert an integer to string.**"
      ],
      "metadata": {
        "id": "HJFfNz0QR4Nc"
      }
    },
    {
      "cell_type": "code",
      "source": [
        "def int_to_string(number):\n",
        "    string_number = str(number)\n",
        "    return string_number\n",
        "\n",
        "# Example usage\n",
        "my_integer = 123\n",
        "my_string = int_to_string(my_integer)\n",
        "print(my_string)\n"
      ],
      "metadata": {
        "colab": {
          "base_uri": "https://localhost:8080/"
        },
        "id": "N08AZ5GhSETH",
        "outputId": "0155d2d3-3e8c-46d5-c1c7-7c1aa9002d22"
      },
      "execution_count": 65,
      "outputs": [
        {
          "output_type": "stream",
          "name": "stdout",
          "text": [
            "123\n"
          ]
        }
      ]
    },
    {
      "cell_type": "markdown",
      "source": [
        "**64. Write a program to print the shape of a matrix**"
      ],
      "metadata": {
        "id": "oz19Z1V0SOmF"
      }
    },
    {
      "cell_type": "code",
      "source": [
        "def print_matrix_shape(matrix):\n",
        "    rows = len(matrix)\n",
        "    columns = len(matrix[0]) if matrix else 0\n",
        "    print(\"Matrix Shape: {} x {}\".format(rows, columns))\n",
        "\n",
        "# Example usage\n",
        "my_matrix = [\n",
        "    [1, 2, 3],\n",
        "    [4, 5, 6],\n",
        "    [7, 8, 9]\n",
        "]\n",
        "print_matrix_shape(my_matrix)\n"
      ],
      "metadata": {
        "colab": {
          "base_uri": "https://localhost:8080/"
        },
        "id": "9NoycayfSbb4",
        "outputId": "6c9c2a5b-c3e8-4b08-9f1d-4142018eb04f"
      },
      "execution_count": 66,
      "outputs": [
        {
          "output_type": "stream",
          "name": "stdout",
          "text": [
            "Matrix Shape: 3 x 3\n"
          ]
        }
      ]
    },
    {
      "cell_type": "markdown",
      "source": [
        "**65Write a program that can check if you can perform matrix\n",
        "multiplication on 2 matrices**"
      ],
      "metadata": {
        "id": "03VUEO4bTDH4"
      }
    },
    {
      "cell_type": "code",
      "source": [
        "def can_multiply_matrices(matrix1, matrix2):\n",
        "    columns_matrix1 = len(matrix1[0])\n",
        "    rows_matrix2 = len(matrix2)\n",
        "    \n",
        "    if columns_matrix1 == rows_matrix2:\n",
        "        return True\n",
        "    else:\n",
        "        return False\n",
        "\n",
        "# Example usage\n",
        "matrix1 = [\n",
        "    [1, 2],\n",
        "    [3, 4],\n",
        "    [5, 6]\n",
        "]\n",
        "\n",
        "matrix2 = [\n",
        "    [7, 8, 9],\n",
        "    [10, 11, 12]\n",
        "]\n",
        "\n",
        "if can_multiply_matrices(matrix1, matrix2):\n",
        "    print(\"Matrix multiplication can be performed.\")\n",
        "else:\n",
        "    print(\"Matrix multiplication cannot be performed.\")\n"
      ],
      "metadata": {
        "colab": {
          "base_uri": "https://localhost:8080/"
        },
        "id": "h1OfJiuOTFOj",
        "outputId": "b7ba011c-9aa0-4dd4-e466-68d880eaeee9"
      },
      "execution_count": 67,
      "outputs": [
        {
          "output_type": "stream",
          "name": "stdout",
          "text": [
            "Matrix multiplication can be performed.\n"
          ]
        }
      ]
    },
    {
      "cell_type": "markdown",
      "source": [
        "**66.Write a program to perform matrix multiplication on 2 matrices**"
      ],
      "metadata": {
        "id": "qGUgHIPmTg7P"
      }
    },
    {
      "cell_type": "code",
      "source": [
        "def matrix_multiplication(matrix1, matrix2):\n",
        "    rows_matrix1 = len(matrix1)\n",
        "    columns_matrix1 = len(matrix1[0])\n",
        "    rows_matrix2 = len(matrix2)\n",
        "    columns_matrix2 = len(matrix2[0])\n",
        "\n",
        "    if columns_matrix1 != rows_matrix2:\n",
        "        raise ValueError(\"Invalid matrices. Number of columns in matrix1 must be equal to the number of rows in matrix2.\")\n",
        "\n",
        "    result_matrix = [[0] * columns_matrix2 for _ in range(rows_matrix1)]\n",
        "\n",
        "    for i in range(rows_matrix1):\n",
        "        for j in range(columns_matrix2):\n",
        "            for k in range(columns_matrix1):\n",
        "                result_matrix[i][j] += matrix1[i][k] * matrix2[k][j]\n",
        "\n",
        "    return result_matrix\n",
        "\n",
        "# Example usage\n",
        "matrix1 = [\n",
        "    [1, 2],\n",
        "    [3, 4],\n",
        "    [5, 6]\n",
        "]\n",
        "\n",
        "matrix2 = [\n",
        "    [7, 8, 9],\n",
        "    [10, 11, 12]\n",
        "]\n",
        "\n",
        "result = matrix_multiplication(matrix1, matrix2)\n",
        "for row in result:\n",
        "    print(row)\n"
      ],
      "metadata": {
        "colab": {
          "base_uri": "https://localhost:8080/"
        },
        "id": "CODCfy8ZTjkT",
        "outputId": "cc152032-5941-4200-a28c-05833708065a"
      },
      "execution_count": 68,
      "outputs": [
        {
          "output_type": "stream",
          "name": "stdout",
          "text": [
            "[27, 30, 33]\n",
            "[61, 68, 75]\n",
            "[95, 106, 117]\n"
          ]
        }
      ]
    },
    {
      "cell_type": "markdown",
      "source": [
        "**67. Write a program that can sort a given unsorted list. Dont use any built in\n",
        "function for sorting.**"
      ],
      "metadata": {
        "id": "PAMgfJICTyyR"
      }
    },
    {
      "cell_type": "code",
      "source": [
        "def selection_sort(unsorted_list):\n",
        "    for i in range(len(unsorted_list)):\n",
        "        min_index = i\n",
        "        for j in range(i + 1, len(unsorted_list)):\n",
        "            if unsorted_list[j] < unsorted_list[min_index]:\n",
        "                min_index = j\n",
        "        unsorted_list[i], unsorted_list[min_index] = unsorted_list[min_index], unsorted_list[i]\n",
        "    return unsorted_list\n",
        "\n",
        "# Example usage\n",
        "my_list = [9, 5, 2, 8, 1, 7]\n",
        "sorted_list = selection_sort(my_list)\n",
        "print(sorted_list)\n"
      ],
      "metadata": {
        "colab": {
          "base_uri": "https://localhost:8080/"
        },
        "id": "ga48rC65T8tN",
        "outputId": "8518d9a5-7762-41d4-eb6f-5c2d596322b4"
      },
      "execution_count": 69,
      "outputs": [
        {
          "output_type": "stream",
          "name": "stdout",
          "text": [
            "[1, 2, 5, 7, 8, 9]\n"
          ]
        }
      ]
    },
    {
      "cell_type": "markdown",
      "source": [
        "**68. .Assume a list with numbers from 1 to 10 and then convert it into a\n",
        "dictionary where the key would be the numbers of the list and the\n",
        "values would be the square of those numbers**"
      ],
      "metadata": {
        "id": "zEidEB067dBM"
      }
    },
    {
      "cell_type": "code",
      "source": [
        "\n",
        "d = {i:i*i for i in range(1,11)}\n",
        "d"
      ],
      "metadata": {
        "colab": {
          "base_uri": "https://localhost:8080/"
        },
        "id": "uwSJUbFQ7zQR",
        "outputId": "6a07b9f1-4337-41be-d8ff-7d076de2b62b"
      },
      "execution_count": 70,
      "outputs": [
        {
          "output_type": "execute_result",
          "data": {
            "text/plain": [
              "{1: 1, 2: 4, 3: 9, 4: 16, 5: 25, 6: 36, 7: 49, 8: 64, 9: 81, 10: 100}"
            ]
          },
          "metadata": {},
          "execution_count": 70
        }
      ]
    },
    {
      "cell_type": "markdown",
      "source": [
        "**69.Write a program to merge two given dictionary**"
      ],
      "metadata": {
        "id": "UzJ2UC2i9dag"
      }
    },
    {
      "cell_type": "code",
      "source": [
        "def create_merge_dict(dict1,dict2):\n",
        "  merged_dict = dict1.copy()\n",
        "  merged_dict.update(dict2)\n",
        "  return merged_dict\n",
        "create_merge_dict({'k1':1,'k2':2,'k3':3},{'l1':[1,2,3],'l2':[4,5,6]})"
      ],
      "metadata": {
        "colab": {
          "base_uri": "https://localhost:8080/"
        },
        "id": "JjAHZbki9c2y",
        "outputId": "aea6744b-8284-4de6-eb06-cedff2931c69"
      },
      "execution_count": 71,
      "outputs": [
        {
          "output_type": "execute_result",
          "data": {
            "text/plain": [
              "{'k1': 1, 'k2': 2, 'k3': 3, 'l1': [1, 2, 3], 'l2': [4, 5, 6]}"
            ]
          },
          "metadata": {},
          "execution_count": 71
        }
      ]
    },
    {
      "cell_type": "markdown",
      "source": [
        "**70.  Write a program to swap the key value pair for max and min values**\n",
        "\n",
        "Eg if the dict is like this {‘a’:1,’b’:2,’c’:3}\n",
        "Output should be {a:3,b:2,c:1}"
      ],
      "metadata": {
        "id": "XnyL3hzw-T3l"
      }
    },
    {
      "cell_type": "code",
      "source": [
        "def swap_min_max(dict1):\n",
        "  max_val = max(dict1.values())\n",
        "  min_val = min(dict1.values())\n",
        "\n",
        "  ## find the key of min&max values\n",
        "  max_key = next(key for key,val in dict1.items() if val==max_val)\n",
        "  min_key = next(key for key,val in dict1.items() if val==min_val)\n",
        "\n",
        "  ##swap the key\n",
        "  dict1[max_key] = min_val\n",
        "  dict1[min_key] = max_val\n",
        "\n",
        "  return dict1\n",
        "swap_min_max({'k1':1,'k2':2,'k3':3,'k4':4,'k5':5})"
      ],
      "metadata": {
        "colab": {
          "base_uri": "https://localhost:8080/",
          "height": 321
        },
        "id": "ngHSbIOf-i9N",
        "outputId": "cfdfe761-6da4-4cf5-cbc3-493eb481ce4f"
      },
      "execution_count": 72,
      "outputs": [
        {
          "output_type": "error",
          "ename": "TypeError",
          "evalue": "ignored",
          "traceback": [
            "\u001b[0;31m---------------------------------------------------------------------------\u001b[0m",
            "\u001b[0;31mTypeError\u001b[0m                                 Traceback (most recent call last)",
            "\u001b[0;32m<ipython-input-72-f37607945c29>\u001b[0m in \u001b[0;36m<cell line: 14>\u001b[0;34m()\u001b[0m\n\u001b[1;32m     12\u001b[0m \u001b[0;34m\u001b[0m\u001b[0m\n\u001b[1;32m     13\u001b[0m   \u001b[0;32mreturn\u001b[0m \u001b[0mdict1\u001b[0m\u001b[0;34m\u001b[0m\u001b[0;34m\u001b[0m\u001b[0m\n\u001b[0;32m---> 14\u001b[0;31m \u001b[0mswap_min_max\u001b[0m\u001b[0;34m(\u001b[0m\u001b[0;34m{\u001b[0m\u001b[0;34m'k1'\u001b[0m\u001b[0;34m:\u001b[0m\u001b[0;36m1\u001b[0m\u001b[0;34m,\u001b[0m\u001b[0;34m'k2'\u001b[0m\u001b[0;34m:\u001b[0m\u001b[0;36m2\u001b[0m\u001b[0;34m,\u001b[0m\u001b[0;34m'k3'\u001b[0m\u001b[0;34m:\u001b[0m\u001b[0;36m3\u001b[0m\u001b[0;34m,\u001b[0m\u001b[0;34m'k4'\u001b[0m\u001b[0;34m:\u001b[0m\u001b[0;36m4\u001b[0m\u001b[0;34m,\u001b[0m\u001b[0;34m'k5'\u001b[0m\u001b[0;34m:\u001b[0m\u001b[0;36m5\u001b[0m\u001b[0;34m}\u001b[0m\u001b[0;34m)\u001b[0m\u001b[0;34m\u001b[0m\u001b[0;34m\u001b[0m\u001b[0m\n\u001b[0m",
            "\u001b[0;32m<ipython-input-72-f37607945c29>\u001b[0m in \u001b[0;36mswap_min_max\u001b[0;34m(dict1)\u001b[0m\n\u001b[1;32m      1\u001b[0m \u001b[0;32mdef\u001b[0m \u001b[0mswap_min_max\u001b[0m\u001b[0;34m(\u001b[0m\u001b[0mdict1\u001b[0m\u001b[0;34m)\u001b[0m\u001b[0;34m:\u001b[0m\u001b[0;34m\u001b[0m\u001b[0;34m\u001b[0m\u001b[0m\n\u001b[0;32m----> 2\u001b[0;31m   \u001b[0mmax_val\u001b[0m \u001b[0;34m=\u001b[0m \u001b[0mmax\u001b[0m\u001b[0;34m(\u001b[0m\u001b[0mdict1\u001b[0m\u001b[0;34m.\u001b[0m\u001b[0mvalues\u001b[0m\u001b[0;34m(\u001b[0m\u001b[0;34m)\u001b[0m\u001b[0;34m)\u001b[0m\u001b[0;34m\u001b[0m\u001b[0;34m\u001b[0m\u001b[0m\n\u001b[0m\u001b[1;32m      3\u001b[0m   \u001b[0mmin_val\u001b[0m \u001b[0;34m=\u001b[0m \u001b[0mmin\u001b[0m\u001b[0;34m(\u001b[0m\u001b[0mdict1\u001b[0m\u001b[0;34m.\u001b[0m\u001b[0mvalues\u001b[0m\u001b[0;34m(\u001b[0m\u001b[0;34m)\u001b[0m\u001b[0;34m)\u001b[0m\u001b[0;34m\u001b[0m\u001b[0;34m\u001b[0m\u001b[0m\n\u001b[1;32m      4\u001b[0m \u001b[0;34m\u001b[0m\u001b[0m\n\u001b[1;32m      5\u001b[0m   \u001b[0;31m## find the key of min&max values\u001b[0m\u001b[0;34m\u001b[0m\u001b[0;34m\u001b[0m\u001b[0m\n",
            "\u001b[0;31mTypeError\u001b[0m: 'int' object is not callable"
          ]
        }
      ]
    },
    {
      "cell_type": "markdown",
      "source": [
        "**71. Write a program to find histogram of a given set of numbers. Take bin\n",
        "size from user. Print the result in the form of a dictionary.**"
      ],
      "metadata": {
        "id": "fqRbqiO3P3HC"
      }
    },
    {
      "cell_type": "code",
      "source": [
        "def calculate_histogram(numbers, bin_size):\n",
        "    histogram = {}\n",
        "    for num in numbers:\n",
        "        bin_number = num // bin_size\n",
        "        if bin_number in histogram:\n",
        "            histogram[bin_number] += 1\n",
        "        else:\n",
        "            histogram[bin_number] = 1\n",
        "    return histogram\n",
        "\n",
        "# Read input from the user\n",
        "numbers = input(\"Enter a set of numbers (space-separated): \").split()\n",
        "numbers = [float(num) for num in numbers]\n",
        "\n",
        "bin_size = float(input(\"Enter the bin size: \"))\n",
        "\n",
        "# Calculate the histogram\n",
        "histogram = calculate_histogram(numbers, bin_size)\n",
        "\n",
        "# Print the histogram as a dictionary\n",
        "print(\"Histogram:\")\n",
        "print(histogram)\n"
      ],
      "metadata": {
        "colab": {
          "base_uri": "https://localhost:8080/"
        },
        "id": "8L3K7iCkPnRe",
        "outputId": "a89a7b64-678c-4f86-9462-db1a97a99995"
      },
      "execution_count": 73,
      "outputs": [
        {
          "output_type": "stream",
          "name": "stdout",
          "text": [
            "Enter a set of numbers (space-separated): 4 6 7 9 2\n",
            "Enter the bin size: 10\n",
            "Histogram:\n",
            "{0.0: 5}\n"
          ]
        }
      ]
    },
    {
      "cell_type": "markdown",
      "source": [
        "**72. .Write a function that accepts a string and returns the number of upper\n",
        "case chars and lower case chars as a dictionary**"
      ],
      "metadata": {
        "id": "i47vdbKxQ6e5"
      }
    },
    {
      "cell_type": "code",
      "source": [
        "def num_upper_lower(in_str):\n",
        "  l1 = [ i for i in in_str if i.isupper()==True]\n",
        "  l2 = [i for i in in_str if i.islower()==True]\n",
        "  d = {'upper_case':len(l1),'lower_case':len(l2)}\n",
        "  print(d)\n",
        "num_upper_lower('XYbhuj')"
      ],
      "metadata": {
        "colab": {
          "base_uri": "https://localhost:8080/"
        },
        "id": "R6NrVLrOQ8rD",
        "outputId": "bae95591-16e3-4dac-f7db-e0a1830d93f2"
      },
      "execution_count": 74,
      "outputs": [
        {
          "output_type": "stream",
          "name": "stdout",
          "text": [
            "{'upper_case': 2, 'lower_case': 4}\n"
          ]
        }
      ]
    },
    {
      "cell_type": "markdown",
      "source": [
        "**73.Write a function that accepts a list of strings and performs Bag of words\n",
        "and convert it to numerical vectorst**"
      ],
      "metadata": {
        "id": "8OqTqPH-TAZj"
      }
    },
    {
      "cell_type": "code",
      "source": [
        "from sklearn.feature_extraction.text import CountVectorizer\n",
        "\n",
        "def convert_to_numerical_vectors(string_list):\n",
        "    vectorizer = CountVectorizer()\n",
        "    vectors = vectorizer.fit_transform(string_list).toarray()\n",
        "    return vectors\n",
        "\n",
        "# Example usage\n",
        "string_list = [\"I love coding\", \"Python is great\", \"Machine learning is fascinating\"]\n",
        "numerical_vectors = convert_to_numerical_vectors(string_list)\n",
        "print(numerical_vectors)\n"
      ],
      "metadata": {
        "colab": {
          "base_uri": "https://localhost:8080/"
        },
        "id": "aw9oVioGRU9y",
        "outputId": "a4eb7315-813c-4b91-af80-7166a60c75ab"
      },
      "execution_count": 75,
      "outputs": [
        {
          "output_type": "stream",
          "name": "stdout",
          "text": [
            "[[1 0 0 0 0 1 0 0]\n",
            " [0 0 1 1 0 0 0 1]\n",
            " [0 1 0 1 1 0 1 0]]\n"
          ]
        }
      ]
    },
    {
      "cell_type": "markdown",
      "source": [
        "**74.Write a program that accepts neighbors(set of 2D co-ordinates) and a\n",
        "point(single 2D co-ordinate) and tells nearest neighbor(in terms of\n",
        "euclidean distance)**"
      ],
      "metadata": {
        "id": "cbQXZl1tTtGY"
      }
    },
    {
      "cell_type": "code",
      "source": [
        "import math\n",
        "\n",
        "def calculate_distance(p1, p2):\n",
        "    return math.sqrt((p2[0] - p1[0])**2 + (p2[1] - p1[1])**2)\n",
        "\n",
        "def find_nearest_neighbor(neighbors, point):\n",
        "    nearest_neighbor = None\n",
        "    min_distance = float('inf')\n",
        "\n",
        "    for neighbor in neighbors:\n",
        "        distance = calculate_distance(neighbor, point)\n",
        "        if distance < min_distance:\n",
        "            min_distance = distance\n",
        "            nearest_neighbor = neighbor\n",
        "\n",
        "    return nearest_neighbor\n",
        "\n",
        "# Example usage\n",
        "neighbors = [(1, 2), (3, 4), (5, 6), (7, 8)]\n",
        "point = (9, 10)\n",
        "\n",
        "nearest_neighbor = find_nearest_neighbor(neighbors, point)\n",
        "print(\"Nearest neighbor:\", nearest_neighbor)\n"
      ],
      "metadata": {
        "colab": {
          "base_uri": "https://localhost:8080/"
        },
        "id": "lv45UfiaUTAH",
        "outputId": "77130fb6-ab3a-477f-a624-b3eb87f9299a"
      },
      "execution_count": 76,
      "outputs": [
        {
          "output_type": "stream",
          "name": "stdout",
          "text": [
            "Nearest neighbor: (7, 8)\n"
          ]
        }
      ]
    },
    {
      "cell_type": "markdown",
      "source": [
        "**75.Write a function that accepts a number and returns it’s factorial. You\n",
        "can not use any loop**"
      ],
      "metadata": {
        "id": "DF0PvC89VM2G"
      }
    },
    {
      "cell_type": "code",
      "source": [
        "def fact(n):\n",
        "  if n == 0 or n == 1:\n",
        "    return 1\n",
        "  else:\n",
        "    return n*fact(n-1)\n",
        "result = fact(4)\n",
        "print(\"Factorial :\",result)"
      ],
      "metadata": {
        "colab": {
          "base_uri": "https://localhost:8080/"
        },
        "id": "sT2OnXH5VRRB",
        "outputId": "8b9f31d5-5e4d-4500-832c-964f95a97fa5"
      },
      "execution_count": 77,
      "outputs": [
        {
          "output_type": "stream",
          "name": "stdout",
          "text": [
            "Factorial : 24\n"
          ]
        }
      ]
    }
  ]
}